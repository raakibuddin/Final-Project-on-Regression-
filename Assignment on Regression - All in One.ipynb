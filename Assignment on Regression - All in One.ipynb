{
 "cells": [
  {
   "cell_type": "code",
   "execution_count": 21,
   "id": "2c7eaf31",
   "metadata": {},
   "outputs": [],
   "source": [
    "import matplotlib.pyplot as plt\n",
    "import pandas as pd\n",
    "import seaborn as sns\n",
    "\n",
    "from pandas.core.dtypes.common import is_numeric_dtype\n",
    "import warnings\n",
    "warnings.filterwarnings('ignore')"
   ]
  },
  {
   "cell_type": "code",
   "execution_count": 2,
   "id": "7687a6de",
   "metadata": {},
   "outputs": [],
   "source": [
    "df = pd.read_csv('global_laptop_selling_data.csv',encoding='ISO-8859-1' )"
   ]
  },
  {
   "cell_type": "code",
   "execution_count": 3,
   "id": "9d8a5023",
   "metadata": {},
   "outputs": [
    {
     "data": {
      "text/html": [
       "<div>\n",
       "<style scoped>\n",
       "    .dataframe tbody tr th:only-of-type {\n",
       "        vertical-align: middle;\n",
       "    }\n",
       "\n",
       "    .dataframe tbody tr th {\n",
       "        vertical-align: top;\n",
       "    }\n",
       "\n",
       "    .dataframe thead th {\n",
       "        text-align: right;\n",
       "    }\n",
       "</style>\n",
       "<table border=\"1\" class=\"dataframe\">\n",
       "  <thead>\n",
       "    <tr style=\"text-align: right;\">\n",
       "      <th></th>\n",
       "      <th>laptop_ID</th>\n",
       "      <th>Company</th>\n",
       "      <th>Product</th>\n",
       "      <th>TypeName</th>\n",
       "      <th>Inches</th>\n",
       "      <th>ScreenResolution</th>\n",
       "      <th>Cpu</th>\n",
       "      <th>Ram</th>\n",
       "      <th>Memory</th>\n",
       "      <th>Gpu</th>\n",
       "      <th>OpSys</th>\n",
       "      <th>Weight</th>\n",
       "      <th>Price_euros</th>\n",
       "    </tr>\n",
       "  </thead>\n",
       "  <tbody>\n",
       "    <tr>\n",
       "      <th>0</th>\n",
       "      <td>1</td>\n",
       "      <td>Apple</td>\n",
       "      <td>MacBook Pro</td>\n",
       "      <td>Ultrabook</td>\n",
       "      <td>13.3</td>\n",
       "      <td>IPS Panel Retina Display 2560x1600</td>\n",
       "      <td>Intel Core i5 2.3GHz</td>\n",
       "      <td>8GB</td>\n",
       "      <td>128GB SSD</td>\n",
       "      <td>Intel Iris Plus Graphics 640</td>\n",
       "      <td>macOS</td>\n",
       "      <td>1.37kg</td>\n",
       "      <td>1339.69</td>\n",
       "    </tr>\n",
       "    <tr>\n",
       "      <th>1</th>\n",
       "      <td>2</td>\n",
       "      <td>Apple</td>\n",
       "      <td>Macbook Air</td>\n",
       "      <td>Ultrabook</td>\n",
       "      <td>13.3</td>\n",
       "      <td>1440x900</td>\n",
       "      <td>Intel Core i5 1.8GHz</td>\n",
       "      <td>8GB</td>\n",
       "      <td>128GB Flash Storage</td>\n",
       "      <td>Intel HD Graphics 6000</td>\n",
       "      <td>macOS</td>\n",
       "      <td>1.34kg</td>\n",
       "      <td>898.94</td>\n",
       "    </tr>\n",
       "    <tr>\n",
       "      <th>2</th>\n",
       "      <td>3</td>\n",
       "      <td>HP</td>\n",
       "      <td>250 G6</td>\n",
       "      <td>Notebook</td>\n",
       "      <td>15.6</td>\n",
       "      <td>Full HD 1920x1080</td>\n",
       "      <td>Intel Core i5 7200U 2.5GHz</td>\n",
       "      <td>8GB</td>\n",
       "      <td>256GB SSD</td>\n",
       "      <td>Intel HD Graphics 620</td>\n",
       "      <td>No OS</td>\n",
       "      <td>1.86kg</td>\n",
       "      <td>575.00</td>\n",
       "    </tr>\n",
       "    <tr>\n",
       "      <th>3</th>\n",
       "      <td>4</td>\n",
       "      <td>Apple</td>\n",
       "      <td>MacBook Pro</td>\n",
       "      <td>Ultrabook</td>\n",
       "      <td>15.4</td>\n",
       "      <td>IPS Panel Retina Display 2880x1800</td>\n",
       "      <td>Intel Core i7 2.7GHz</td>\n",
       "      <td>16GB</td>\n",
       "      <td>512GB SSD</td>\n",
       "      <td>AMD Radeon Pro 455</td>\n",
       "      <td>macOS</td>\n",
       "      <td>1.83kg</td>\n",
       "      <td>2537.45</td>\n",
       "    </tr>\n",
       "    <tr>\n",
       "      <th>4</th>\n",
       "      <td>5</td>\n",
       "      <td>Apple</td>\n",
       "      <td>MacBook Pro</td>\n",
       "      <td>Ultrabook</td>\n",
       "      <td>13.3</td>\n",
       "      <td>IPS Panel Retina Display 2560x1600</td>\n",
       "      <td>Intel Core i5 3.1GHz</td>\n",
       "      <td>8GB</td>\n",
       "      <td>256GB SSD</td>\n",
       "      <td>Intel Iris Plus Graphics 650</td>\n",
       "      <td>macOS</td>\n",
       "      <td>1.37kg</td>\n",
       "      <td>1803.60</td>\n",
       "    </tr>\n",
       "  </tbody>\n",
       "</table>\n",
       "</div>"
      ],
      "text/plain": [
       "   laptop_ID Company      Product   TypeName  Inches  \\\n",
       "0          1   Apple  MacBook Pro  Ultrabook    13.3   \n",
       "1          2   Apple  Macbook Air  Ultrabook    13.3   \n",
       "2          3      HP       250 G6   Notebook    15.6   \n",
       "3          4   Apple  MacBook Pro  Ultrabook    15.4   \n",
       "4          5   Apple  MacBook Pro  Ultrabook    13.3   \n",
       "\n",
       "                     ScreenResolution                         Cpu   Ram  \\\n",
       "0  IPS Panel Retina Display 2560x1600        Intel Core i5 2.3GHz   8GB   \n",
       "1                            1440x900        Intel Core i5 1.8GHz   8GB   \n",
       "2                   Full HD 1920x1080  Intel Core i5 7200U 2.5GHz   8GB   \n",
       "3  IPS Panel Retina Display 2880x1800        Intel Core i7 2.7GHz  16GB   \n",
       "4  IPS Panel Retina Display 2560x1600        Intel Core i5 3.1GHz   8GB   \n",
       "\n",
       "                Memory                           Gpu  OpSys  Weight  \\\n",
       "0            128GB SSD  Intel Iris Plus Graphics 640  macOS  1.37kg   \n",
       "1  128GB Flash Storage        Intel HD Graphics 6000  macOS  1.34kg   \n",
       "2            256GB SSD         Intel HD Graphics 620  No OS  1.86kg   \n",
       "3            512GB SSD            AMD Radeon Pro 455  macOS  1.83kg   \n",
       "4            256GB SSD  Intel Iris Plus Graphics 650  macOS  1.37kg   \n",
       "\n",
       "   Price_euros  \n",
       "0      1339.69  \n",
       "1       898.94  \n",
       "2       575.00  \n",
       "3      2537.45  \n",
       "4      1803.60  "
      ]
     },
     "execution_count": 3,
     "metadata": {},
     "output_type": "execute_result"
    }
   ],
   "source": [
    "df.head()"
   ]
  },
  {
   "cell_type": "code",
   "execution_count": 4,
   "id": "e6737f1c",
   "metadata": {},
   "outputs": [
    {
     "data": {
      "text/plain": [
       "laptop_ID           1303\n",
       "Company               19\n",
       "Product              618\n",
       "TypeName               6\n",
       "Inches                18\n",
       "ScreenResolution      40\n",
       "Cpu                  118\n",
       "Ram                    9\n",
       "Memory                39\n",
       "Gpu                  110\n",
       "OpSys                  9\n",
       "Weight               179\n",
       "Price_euros          791\n",
       "dtype: int64"
      ]
     },
     "execution_count": 4,
     "metadata": {},
     "output_type": "execute_result"
    }
   ],
   "source": [
    "df.nunique()"
   ]
  },
  {
   "cell_type": "code",
   "execution_count": 5,
   "id": "56f898c2",
   "metadata": {},
   "outputs": [],
   "source": [
    "df = df.drop('laptop_ID', axis=1)"
   ]
  },
  {
   "cell_type": "code",
   "execution_count": 6,
   "id": "5913708b",
   "metadata": {},
   "outputs": [
    {
     "data": {
      "text/html": [
       "<div>\n",
       "<style scoped>\n",
       "    .dataframe tbody tr th:only-of-type {\n",
       "        vertical-align: middle;\n",
       "    }\n",
       "\n",
       "    .dataframe tbody tr th {\n",
       "        vertical-align: top;\n",
       "    }\n",
       "\n",
       "    .dataframe thead th {\n",
       "        text-align: right;\n",
       "    }\n",
       "</style>\n",
       "<table border=\"1\" class=\"dataframe\">\n",
       "  <thead>\n",
       "    <tr style=\"text-align: right;\">\n",
       "      <th></th>\n",
       "      <th>Company</th>\n",
       "      <th>Product</th>\n",
       "      <th>TypeName</th>\n",
       "      <th>Inches</th>\n",
       "      <th>ScreenResolution</th>\n",
       "      <th>Cpu</th>\n",
       "      <th>Ram</th>\n",
       "      <th>Memory</th>\n",
       "      <th>Gpu</th>\n",
       "      <th>OpSys</th>\n",
       "      <th>Weight</th>\n",
       "      <th>Price_euros</th>\n",
       "    </tr>\n",
       "  </thead>\n",
       "  <tbody>\n",
       "    <tr>\n",
       "      <th>0</th>\n",
       "      <td>Apple</td>\n",
       "      <td>MacBook Pro</td>\n",
       "      <td>Ultrabook</td>\n",
       "      <td>13.3</td>\n",
       "      <td>IPS Panel Retina Display 2560x1600</td>\n",
       "      <td>Intel Core i5 2.3GHz</td>\n",
       "      <td>8GB</td>\n",
       "      <td>128GB SSD</td>\n",
       "      <td>Intel Iris Plus Graphics 640</td>\n",
       "      <td>macOS</td>\n",
       "      <td>1.37kg</td>\n",
       "      <td>1339.69</td>\n",
       "    </tr>\n",
       "    <tr>\n",
       "      <th>1</th>\n",
       "      <td>Apple</td>\n",
       "      <td>Macbook Air</td>\n",
       "      <td>Ultrabook</td>\n",
       "      <td>13.3</td>\n",
       "      <td>1440x900</td>\n",
       "      <td>Intel Core i5 1.8GHz</td>\n",
       "      <td>8GB</td>\n",
       "      <td>128GB Flash Storage</td>\n",
       "      <td>Intel HD Graphics 6000</td>\n",
       "      <td>macOS</td>\n",
       "      <td>1.34kg</td>\n",
       "      <td>898.94</td>\n",
       "    </tr>\n",
       "    <tr>\n",
       "      <th>2</th>\n",
       "      <td>HP</td>\n",
       "      <td>250 G6</td>\n",
       "      <td>Notebook</td>\n",
       "      <td>15.6</td>\n",
       "      <td>Full HD 1920x1080</td>\n",
       "      <td>Intel Core i5 7200U 2.5GHz</td>\n",
       "      <td>8GB</td>\n",
       "      <td>256GB SSD</td>\n",
       "      <td>Intel HD Graphics 620</td>\n",
       "      <td>No OS</td>\n",
       "      <td>1.86kg</td>\n",
       "      <td>575.00</td>\n",
       "    </tr>\n",
       "    <tr>\n",
       "      <th>3</th>\n",
       "      <td>Apple</td>\n",
       "      <td>MacBook Pro</td>\n",
       "      <td>Ultrabook</td>\n",
       "      <td>15.4</td>\n",
       "      <td>IPS Panel Retina Display 2880x1800</td>\n",
       "      <td>Intel Core i7 2.7GHz</td>\n",
       "      <td>16GB</td>\n",
       "      <td>512GB SSD</td>\n",
       "      <td>AMD Radeon Pro 455</td>\n",
       "      <td>macOS</td>\n",
       "      <td>1.83kg</td>\n",
       "      <td>2537.45</td>\n",
       "    </tr>\n",
       "    <tr>\n",
       "      <th>4</th>\n",
       "      <td>Apple</td>\n",
       "      <td>MacBook Pro</td>\n",
       "      <td>Ultrabook</td>\n",
       "      <td>13.3</td>\n",
       "      <td>IPS Panel Retina Display 2560x1600</td>\n",
       "      <td>Intel Core i5 3.1GHz</td>\n",
       "      <td>8GB</td>\n",
       "      <td>256GB SSD</td>\n",
       "      <td>Intel Iris Plus Graphics 650</td>\n",
       "      <td>macOS</td>\n",
       "      <td>1.37kg</td>\n",
       "      <td>1803.60</td>\n",
       "    </tr>\n",
       "  </tbody>\n",
       "</table>\n",
       "</div>"
      ],
      "text/plain": [
       "  Company      Product   TypeName  Inches                    ScreenResolution  \\\n",
       "0   Apple  MacBook Pro  Ultrabook    13.3  IPS Panel Retina Display 2560x1600   \n",
       "1   Apple  Macbook Air  Ultrabook    13.3                            1440x900   \n",
       "2      HP       250 G6   Notebook    15.6                   Full HD 1920x1080   \n",
       "3   Apple  MacBook Pro  Ultrabook    15.4  IPS Panel Retina Display 2880x1800   \n",
       "4   Apple  MacBook Pro  Ultrabook    13.3  IPS Panel Retina Display 2560x1600   \n",
       "\n",
       "                          Cpu   Ram               Memory  \\\n",
       "0        Intel Core i5 2.3GHz   8GB            128GB SSD   \n",
       "1        Intel Core i5 1.8GHz   8GB  128GB Flash Storage   \n",
       "2  Intel Core i5 7200U 2.5GHz   8GB            256GB SSD   \n",
       "3        Intel Core i7 2.7GHz  16GB            512GB SSD   \n",
       "4        Intel Core i5 3.1GHz   8GB            256GB SSD   \n",
       "\n",
       "                            Gpu  OpSys  Weight  Price_euros  \n",
       "0  Intel Iris Plus Graphics 640  macOS  1.37kg      1339.69  \n",
       "1        Intel HD Graphics 6000  macOS  1.34kg       898.94  \n",
       "2         Intel HD Graphics 620  No OS  1.86kg       575.00  \n",
       "3            AMD Radeon Pro 455  macOS  1.83kg      2537.45  \n",
       "4  Intel Iris Plus Graphics 650  macOS  1.37kg      1803.60  "
      ]
     },
     "execution_count": 6,
     "metadata": {},
     "output_type": "execute_result"
    }
   ],
   "source": [
    "df.head() # y = df[['Price_euros']]"
   ]
  },
  {
   "cell_type": "markdown",
   "id": "b80e358c",
   "metadata": {},
   "source": [
    "# Preprocessing"
   ]
  },
  {
   "cell_type": "code",
   "execution_count": 7,
   "id": "ab97d92b",
   "metadata": {},
   "outputs": [],
   "source": [
    "df[\"Weight\"] = df[\"Weight\"].str.replace(\"kg\",\"\")\n",
    "df[\"Weight\"] = pd.to_numeric(df[\"Weight\"])\n",
    "df[\"Ram\"] = df[\"Ram\"].apply(lambda x : str(x).replace(\"GB\",\"\")).astype(int)"
   ]
  },
  {
   "cell_type": "code",
   "execution_count": 8,
   "id": "c672b4dd",
   "metadata": {},
   "outputs": [
    {
     "data": {
      "text/html": [
       "<div>\n",
       "<style scoped>\n",
       "    .dataframe tbody tr th:only-of-type {\n",
       "        vertical-align: middle;\n",
       "    }\n",
       "\n",
       "    .dataframe tbody tr th {\n",
       "        vertical-align: top;\n",
       "    }\n",
       "\n",
       "    .dataframe thead th {\n",
       "        text-align: right;\n",
       "    }\n",
       "</style>\n",
       "<table border=\"1\" class=\"dataframe\">\n",
       "  <thead>\n",
       "    <tr style=\"text-align: right;\">\n",
       "      <th></th>\n",
       "      <th>Company</th>\n",
       "      <th>Product</th>\n",
       "      <th>TypeName</th>\n",
       "      <th>Inches</th>\n",
       "      <th>ScreenResolution</th>\n",
       "      <th>Cpu</th>\n",
       "      <th>Ram</th>\n",
       "      <th>Memory</th>\n",
       "      <th>Gpu</th>\n",
       "      <th>OpSys</th>\n",
       "      <th>Weight</th>\n",
       "      <th>Price_euros</th>\n",
       "    </tr>\n",
       "  </thead>\n",
       "  <tbody>\n",
       "    <tr>\n",
       "      <th>0</th>\n",
       "      <td>Apple</td>\n",
       "      <td>MacBook Pro</td>\n",
       "      <td>Ultrabook</td>\n",
       "      <td>13.3</td>\n",
       "      <td>IPS Panel Retina Display 2560x1600</td>\n",
       "      <td>Intel Core i5 2.3GHz</td>\n",
       "      <td>8</td>\n",
       "      <td>128GB SSD</td>\n",
       "      <td>Intel Iris Plus Graphics 640</td>\n",
       "      <td>macOS</td>\n",
       "      <td>1.37</td>\n",
       "      <td>1339.69</td>\n",
       "    </tr>\n",
       "    <tr>\n",
       "      <th>1</th>\n",
       "      <td>Apple</td>\n",
       "      <td>Macbook Air</td>\n",
       "      <td>Ultrabook</td>\n",
       "      <td>13.3</td>\n",
       "      <td>1440x900</td>\n",
       "      <td>Intel Core i5 1.8GHz</td>\n",
       "      <td>8</td>\n",
       "      <td>128GB Flash Storage</td>\n",
       "      <td>Intel HD Graphics 6000</td>\n",
       "      <td>macOS</td>\n",
       "      <td>1.34</td>\n",
       "      <td>898.94</td>\n",
       "    </tr>\n",
       "    <tr>\n",
       "      <th>2</th>\n",
       "      <td>HP</td>\n",
       "      <td>250 G6</td>\n",
       "      <td>Notebook</td>\n",
       "      <td>15.6</td>\n",
       "      <td>Full HD 1920x1080</td>\n",
       "      <td>Intel Core i5 7200U 2.5GHz</td>\n",
       "      <td>8</td>\n",
       "      <td>256GB SSD</td>\n",
       "      <td>Intel HD Graphics 620</td>\n",
       "      <td>No OS</td>\n",
       "      <td>1.86</td>\n",
       "      <td>575.00</td>\n",
       "    </tr>\n",
       "    <tr>\n",
       "      <th>3</th>\n",
       "      <td>Apple</td>\n",
       "      <td>MacBook Pro</td>\n",
       "      <td>Ultrabook</td>\n",
       "      <td>15.4</td>\n",
       "      <td>IPS Panel Retina Display 2880x1800</td>\n",
       "      <td>Intel Core i7 2.7GHz</td>\n",
       "      <td>16</td>\n",
       "      <td>512GB SSD</td>\n",
       "      <td>AMD Radeon Pro 455</td>\n",
       "      <td>macOS</td>\n",
       "      <td>1.83</td>\n",
       "      <td>2537.45</td>\n",
       "    </tr>\n",
       "    <tr>\n",
       "      <th>4</th>\n",
       "      <td>Apple</td>\n",
       "      <td>MacBook Pro</td>\n",
       "      <td>Ultrabook</td>\n",
       "      <td>13.3</td>\n",
       "      <td>IPS Panel Retina Display 2560x1600</td>\n",
       "      <td>Intel Core i5 3.1GHz</td>\n",
       "      <td>8</td>\n",
       "      <td>256GB SSD</td>\n",
       "      <td>Intel Iris Plus Graphics 650</td>\n",
       "      <td>macOS</td>\n",
       "      <td>1.37</td>\n",
       "      <td>1803.60</td>\n",
       "    </tr>\n",
       "  </tbody>\n",
       "</table>\n",
       "</div>"
      ],
      "text/plain": [
       "  Company      Product   TypeName  Inches                    ScreenResolution  \\\n",
       "0   Apple  MacBook Pro  Ultrabook    13.3  IPS Panel Retina Display 2560x1600   \n",
       "1   Apple  Macbook Air  Ultrabook    13.3                            1440x900   \n",
       "2      HP       250 G6   Notebook    15.6                   Full HD 1920x1080   \n",
       "3   Apple  MacBook Pro  Ultrabook    15.4  IPS Panel Retina Display 2880x1800   \n",
       "4   Apple  MacBook Pro  Ultrabook    13.3  IPS Panel Retina Display 2560x1600   \n",
       "\n",
       "                          Cpu  Ram               Memory  \\\n",
       "0        Intel Core i5 2.3GHz    8            128GB SSD   \n",
       "1        Intel Core i5 1.8GHz    8  128GB Flash Storage   \n",
       "2  Intel Core i5 7200U 2.5GHz    8            256GB SSD   \n",
       "3        Intel Core i7 2.7GHz   16            512GB SSD   \n",
       "4        Intel Core i5 3.1GHz    8            256GB SSD   \n",
       "\n",
       "                            Gpu  OpSys  Weight  Price_euros  \n",
       "0  Intel Iris Plus Graphics 640  macOS    1.37      1339.69  \n",
       "1        Intel HD Graphics 6000  macOS    1.34       898.94  \n",
       "2         Intel HD Graphics 620  No OS    1.86       575.00  \n",
       "3            AMD Radeon Pro 455  macOS    1.83      2537.45  \n",
       "4  Intel Iris Plus Graphics 650  macOS    1.37      1803.60  "
      ]
     },
     "execution_count": 8,
     "metadata": {},
     "output_type": "execute_result"
    }
   ],
   "source": [
    "df.head()"
   ]
  },
  {
   "cell_type": "code",
   "execution_count": 9,
   "id": "70e08522",
   "metadata": {},
   "outputs": [
    {
     "name": "stdout",
     "output_type": "stream",
     "text": [
      "<class 'pandas.core.frame.DataFrame'>\n",
      "RangeIndex: 1303 entries, 0 to 1302\n",
      "Data columns (total 12 columns):\n",
      " #   Column            Non-Null Count  Dtype  \n",
      "---  ------            --------------  -----  \n",
      " 0   Company           1303 non-null   object \n",
      " 1   Product           1303 non-null   object \n",
      " 2   TypeName          1303 non-null   object \n",
      " 3   Inches            1303 non-null   float64\n",
      " 4   ScreenResolution  1303 non-null   object \n",
      " 5   Cpu               1303 non-null   object \n",
      " 6   Ram               1303 non-null   int64  \n",
      " 7   Memory            1303 non-null   object \n",
      " 8   Gpu               1303 non-null   object \n",
      " 9   OpSys             1303 non-null   object \n",
      " 10  Weight            1303 non-null   float64\n",
      " 11  Price_euros       1303 non-null   float64\n",
      "dtypes: float64(3), int64(1), object(8)\n",
      "memory usage: 122.3+ KB\n"
     ]
    }
   ],
   "source": [
    "df.info()"
   ]
  },
  {
   "cell_type": "code",
   "execution_count": 10,
   "id": "8b5a5e65",
   "metadata": {},
   "outputs": [],
   "source": [
    "df_product_price = df.groupby(\"Company\")[\"Price_euros\"].mean()"
   ]
  },
  {
   "cell_type": "code",
   "execution_count": 11,
   "id": "6ea174db",
   "metadata": {},
   "outputs": [
    {
     "data": {
      "text/plain": [
       "Company\n",
       "Acer          626.775825\n",
       "Apple        1564.198571\n",
       "Asus         1104.169367\n",
       "Chuwi         314.296667\n",
       "Dell         1186.068990\n",
       "Fujitsu       729.000000\n",
       "Google       1677.666667\n",
       "HP           1067.774854\n",
       "Huawei       1424.000000\n",
       "LG           2099.000000\n",
       "Lenovo       1086.384444\n",
       "MSI          1728.908148\n",
       "Mediacom      295.000000\n",
       "Microsoft    1612.308333\n",
       "Razer        3346.142857\n",
       "Samsung      1413.444444\n",
       "Toshiba      1267.812500\n",
       "Vero          217.425000\n",
       "Xiaomi       1133.462500\n",
       "Name: Price_euros, dtype: float64"
      ]
     },
     "execution_count": 11,
     "metadata": {},
     "output_type": "execute_result"
    }
   ],
   "source": [
    "df_product_price"
   ]
  },
  {
   "cell_type": "code",
   "execution_count": 12,
   "id": "0e187aba",
   "metadata": {},
   "outputs": [],
   "source": [
    "df_product_price = pd.DataFrame(data = df_product_price)\n",
    "df_product_price.columns = [\"Product Avg Price\"]\n",
    "df_product_price.sort_values(by=\"Product Avg Price\",ascending=False,inplace=True)\n"
   ]
  },
  {
   "cell_type": "code",
   "execution_count": 13,
   "id": "5d895ef8",
   "metadata": {},
   "outputs": [
    {
     "data": {
      "text/plain": [
       "Text(0.5, 1.0, 'Average Price Per Company')"
      ]
     },
     "execution_count": 13,
     "metadata": {},
     "output_type": "execute_result"
    },
    {
     "data": {
      "image/png": "[encoded data removed]",
      "text/plain": [
       "<Figure size 1080x576 with 1 Axes>"
      ]
     },
     "metadata": {
      "needs_background": "light"
     },
     "output_type": "display_data"
    }
   ],
   "source": [
    "plt.figure(figsize = (15,8))\n",
    "splot = sns.barplot(data = df_product_price,x= df_product_price.index, y = 'Product Avg Price', palette = 'autumn')\n",
    "for p in splot.patches:\n",
    "    splot.annotate(format(p.get_height(), '.2f'), \n",
    "                   (p.get_x() + p.get_width() / 2., p.get_height()), \n",
    "                   ha = 'center', va = 'center', \n",
    "                   xytext = (0, 9), \n",
    "                   textcoords = 'offset points')\n",
    "    \n",
    "plt.xlabel(\"Name of the Company\", size=15)\n",
    "plt.ylabel(\"Average Product Price\", size=15)\n",
    "plt.title('Average Price Per Company')"
   ]
  },
  {
   "cell_type": "markdown",
   "id": "ae7450cf",
   "metadata": {},
   "source": [
    "# Keep Continue for Regression Model"
   ]
  },
  {
   "cell_type": "markdown",
   "id": "bb791900-2e64-4bc0-9653-356c86a4beed",
   "metadata": {},
   "source": [
    "# Prediction of the 'price' using regression model"
   ]
  },
  {
   "cell_type": "markdown",
   "id": "0a905cb1-cd4a-4ad8-85e1-9b0a8522bd51",
   "metadata": {},
   "source": [
    "# Split the dataset into X and Y"
   ]
  },
  {
   "cell_type": "code",
   "execution_count": 15,
   "id": "04a2f0f7-5c1d-4c11-8b82-6db0cb08f684",
   "metadata": {},
   "outputs": [],
   "source": [
    "X=df.drop(df[['Price_euros']],axis=1) "
   ]
  },
  {
   "cell_type": "code",
   "execution_count": 16,
   "id": "080ef47c-d59e-4f39-a9e6-438e78d7698d",
   "metadata": {},
   "outputs": [
    {
     "data": {
      "text/html": [
       "<div>\n",
       "<style scoped>\n",
       "    .dataframe tbody tr th:only-of-type {\n",
       "        vertical-align: middle;\n",
       "    }\n",
       "\n",
       "    .dataframe tbody tr th {\n",
       "        vertical-align: top;\n",
       "    }\n",
       "\n",
       "    .dataframe thead th {\n",
       "        text-align: right;\n",
       "    }\n",
       "</style>\n",
       "<table border=\"1\" class=\"dataframe\">\n",
       "  <thead>\n",
       "    <tr style=\"text-align: right;\">\n",
       "      <th></th>\n",
       "      <th>Company</th>\n",
       "      <th>Product</th>\n",
       "      <th>TypeName</th>\n",
       "      <th>Inches</th>\n",
       "      <th>ScreenResolution</th>\n",
       "      <th>Cpu</th>\n",
       "      <th>Ram</th>\n",
       "      <th>Memory</th>\n",
       "      <th>Gpu</th>\n",
       "      <th>OpSys</th>\n",
       "      <th>Weight</th>\n",
       "    </tr>\n",
       "  </thead>\n",
       "  <tbody>\n",
       "    <tr>\n",
       "      <th>0</th>\n",
       "      <td>Apple</td>\n",
       "      <td>MacBook Pro</td>\n",
       "      <td>Ultrabook</td>\n",
       "      <td>13.3</td>\n",
       "      <td>IPS Panel Retina Display 2560x1600</td>\n",
       "      <td>Intel Core i5 2.3GHz</td>\n",
       "      <td>8</td>\n",
       "      <td>128GB SSD</td>\n",
       "      <td>Intel Iris Plus Graphics 640</td>\n",
       "      <td>macOS</td>\n",
       "      <td>1.37</td>\n",
       "    </tr>\n",
       "    <tr>\n",
       "      <th>1</th>\n",
       "      <td>Apple</td>\n",
       "      <td>Macbook Air</td>\n",
       "      <td>Ultrabook</td>\n",
       "      <td>13.3</td>\n",
       "      <td>1440x900</td>\n",
       "      <td>Intel Core i5 1.8GHz</td>\n",
       "      <td>8</td>\n",
       "      <td>128GB Flash Storage</td>\n",
       "      <td>Intel HD Graphics 6000</td>\n",
       "      <td>macOS</td>\n",
       "      <td>1.34</td>\n",
       "    </tr>\n",
       "    <tr>\n",
       "      <th>2</th>\n",
       "      <td>HP</td>\n",
       "      <td>250 G6</td>\n",
       "      <td>Notebook</td>\n",
       "      <td>15.6</td>\n",
       "      <td>Full HD 1920x1080</td>\n",
       "      <td>Intel Core i5 7200U 2.5GHz</td>\n",
       "      <td>8</td>\n",
       "      <td>256GB SSD</td>\n",
       "      <td>Intel HD Graphics 620</td>\n",
       "      <td>No OS</td>\n",
       "      <td>1.86</td>\n",
       "    </tr>\n",
       "    <tr>\n",
       "      <th>3</th>\n",
       "      <td>Apple</td>\n",
       "      <td>MacBook Pro</td>\n",
       "      <td>Ultrabook</td>\n",
       "      <td>15.4</td>\n",
       "      <td>IPS Panel Retina Display 2880x1800</td>\n",
       "      <td>Intel Core i7 2.7GHz</td>\n",
       "      <td>16</td>\n",
       "      <td>512GB SSD</td>\n",
       "      <td>AMD Radeon Pro 455</td>\n",
       "      <td>macOS</td>\n",
       "      <td>1.83</td>\n",
       "    </tr>\n",
       "    <tr>\n",
       "      <th>4</th>\n",
       "      <td>Apple</td>\n",
       "      <td>MacBook Pro</td>\n",
       "      <td>Ultrabook</td>\n",
       "      <td>13.3</td>\n",
       "      <td>IPS Panel Retina Display 2560x1600</td>\n",
       "      <td>Intel Core i5 3.1GHz</td>\n",
       "      <td>8</td>\n",
       "      <td>256GB SSD</td>\n",
       "      <td>Intel Iris Plus Graphics 650</td>\n",
       "      <td>macOS</td>\n",
       "      <td>1.37</td>\n",
       "    </tr>\n",
       "  </tbody>\n",
       "</table>\n",
       "</div>"
      ],
      "text/plain": [
       "  Company      Product   TypeName  Inches                    ScreenResolution  \\\n",
       "0   Apple  MacBook Pro  Ultrabook    13.3  IPS Panel Retina Display 2560x1600   \n",
       "1   Apple  Macbook Air  Ultrabook    13.3                            1440x900   \n",
       "2      HP       250 G6   Notebook    15.6                   Full HD 1920x1080   \n",
       "3   Apple  MacBook Pro  Ultrabook    15.4  IPS Panel Retina Display 2880x1800   \n",
       "4   Apple  MacBook Pro  Ultrabook    13.3  IPS Panel Retina Display 2560x1600   \n",
       "\n",
       "                          Cpu  Ram               Memory  \\\n",
       "0        Intel Core i5 2.3GHz    8            128GB SSD   \n",
       "1        Intel Core i5 1.8GHz    8  128GB Flash Storage   \n",
       "2  Intel Core i5 7200U 2.5GHz    8            256GB SSD   \n",
       "3        Intel Core i7 2.7GHz   16            512GB SSD   \n",
       "4        Intel Core i5 3.1GHz    8            256GB SSD   \n",
       "\n",
       "                            Gpu  OpSys  Weight  \n",
       "0  Intel Iris Plus Graphics 640  macOS    1.37  \n",
       "1        Intel HD Graphics 6000  macOS    1.34  \n",
       "2         Intel HD Graphics 620  No OS    1.86  \n",
       "3            AMD Radeon Pro 455  macOS    1.83  \n",
       "4  Intel Iris Plus Graphics 650  macOS    1.37  "
      ]
     },
     "execution_count": 16,
     "metadata": {},
     "output_type": "execute_result"
    }
   ],
   "source": [
    "X.head()"
   ]
  },
  {
   "cell_type": "code",
   "execution_count": 17,
   "id": "8a1406e3-c2f3-4eb2-922c-8a66234e5535",
   "metadata": {},
   "outputs": [],
   "source": [
    "Y=df[['Price_euros']]"
   ]
  },
  {
   "cell_type": "code",
   "execution_count": 18,
   "id": "5d582769-9b5c-4168-ba8e-4403dd4ed5c0",
   "metadata": {},
   "outputs": [
    {
     "data": {
      "text/html": [
       "<div>\n",
       "<style scoped>\n",
       "    .dataframe tbody tr th:only-of-type {\n",
       "        vertical-align: middle;\n",
       "    }\n",
       "\n",
       "    .dataframe tbody tr th {\n",
       "        vertical-align: top;\n",
       "    }\n",
       "\n",
       "    .dataframe thead th {\n",
       "        text-align: right;\n",
       "    }\n",
       "</style>\n",
       "<table border=\"1\" class=\"dataframe\">\n",
       "  <thead>\n",
       "    <tr style=\"text-align: right;\">\n",
       "      <th></th>\n",
       "      <th>Price_euros</th>\n",
       "    </tr>\n",
       "  </thead>\n",
       "  <tbody>\n",
       "    <tr>\n",
       "      <th>0</th>\n",
       "      <td>1339.69</td>\n",
       "    </tr>\n",
       "    <tr>\n",
       "      <th>1</th>\n",
       "      <td>898.94</td>\n",
       "    </tr>\n",
       "    <tr>\n",
       "      <th>2</th>\n",
       "      <td>575.00</td>\n",
       "    </tr>\n",
       "    <tr>\n",
       "      <th>3</th>\n",
       "      <td>2537.45</td>\n",
       "    </tr>\n",
       "    <tr>\n",
       "      <th>4</th>\n",
       "      <td>1803.60</td>\n",
       "    </tr>\n",
       "  </tbody>\n",
       "</table>\n",
       "</div>"
      ],
      "text/plain": [
       "   Price_euros\n",
       "0      1339.69\n",
       "1       898.94\n",
       "2       575.00\n",
       "3      2537.45\n",
       "4      1803.60"
      ]
     },
     "execution_count": 18,
     "metadata": {},
     "output_type": "execute_result"
    }
   ],
   "source": [
    "Y.head()"
   ]
  },
  {
   "cell_type": "markdown",
   "id": "15928b08-15ec-4bb2-aaf6-1ee76304edc3",
   "metadata": {},
   "source": [
    "# Encoding the dataset"
   ]
  },
  {
   "cell_type": "code",
   "execution_count": 22,
   "id": "2a2c9256-891d-467d-b8eb-06fb63b34f75",
   "metadata": {},
   "outputs": [],
   "source": [
    "from sklearn.preprocessing import LabelEncoder\n",
    "le=LabelEncoder()"
   ]
  },
  {
   "cell_type": "code",
   "execution_count": 23,
   "id": "1ca5e0fe-96d0-4296-8e9c-6fc2ce4c8e81",
   "metadata": {},
   "outputs": [
    {
     "data": {
      "text/html": [
       "<div>\n",
       "<style scoped>\n",
       "    .dataframe tbody tr th:only-of-type {\n",
       "        vertical-align: middle;\n",
       "    }\n",
       "\n",
       "    .dataframe tbody tr th {\n",
       "        vertical-align: top;\n",
       "    }\n",
       "\n",
       "    .dataframe thead th {\n",
       "        text-align: right;\n",
       "    }\n",
       "</style>\n",
       "<table border=\"1\" class=\"dataframe\">\n",
       "  <thead>\n",
       "    <tr style=\"text-align: right;\">\n",
       "      <th></th>\n",
       "      <th>Company</th>\n",
       "      <th>Product</th>\n",
       "      <th>TypeName</th>\n",
       "      <th>Inches</th>\n",
       "      <th>ScreenResolution</th>\n",
       "      <th>Cpu</th>\n",
       "      <th>Ram</th>\n",
       "      <th>Memory</th>\n",
       "      <th>Gpu</th>\n",
       "      <th>OpSys</th>\n",
       "      <th>Weight</th>\n",
       "    </tr>\n",
       "  </thead>\n",
       "  <tbody>\n",
       "    <tr>\n",
       "      <th>0</th>\n",
       "      <td>1</td>\n",
       "      <td>300</td>\n",
       "      <td>4</td>\n",
       "      <td>13.3</td>\n",
       "      <td>23</td>\n",
       "      <td>65</td>\n",
       "      <td>8</td>\n",
       "      <td>4</td>\n",
       "      <td>58</td>\n",
       "      <td>8</td>\n",
       "      <td>1.37</td>\n",
       "    </tr>\n",
       "    <tr>\n",
       "      <th>1</th>\n",
       "      <td>1</td>\n",
       "      <td>301</td>\n",
       "      <td>4</td>\n",
       "      <td>13.3</td>\n",
       "      <td>1</td>\n",
       "      <td>63</td>\n",
       "      <td>8</td>\n",
       "      <td>2</td>\n",
       "      <td>51</td>\n",
       "      <td>8</td>\n",
       "      <td>1.34</td>\n",
       "    </tr>\n",
       "    <tr>\n",
       "      <th>2</th>\n",
       "      <td>7</td>\n",
       "      <td>50</td>\n",
       "      <td>3</td>\n",
       "      <td>15.6</td>\n",
       "      <td>8</td>\n",
       "      <td>74</td>\n",
       "      <td>8</td>\n",
       "      <td>16</td>\n",
       "      <td>53</td>\n",
       "      <td>4</td>\n",
       "      <td>1.86</td>\n",
       "    </tr>\n",
       "    <tr>\n",
       "      <th>3</th>\n",
       "      <td>1</td>\n",
       "      <td>300</td>\n",
       "      <td>4</td>\n",
       "      <td>15.4</td>\n",
       "      <td>25</td>\n",
       "      <td>85</td>\n",
       "      <td>16</td>\n",
       "      <td>29</td>\n",
       "      <td>9</td>\n",
       "      <td>8</td>\n",
       "      <td>1.83</td>\n",
       "    </tr>\n",
       "    <tr>\n",
       "      <th>4</th>\n",
       "      <td>1</td>\n",
       "      <td>300</td>\n",
       "      <td>4</td>\n",
       "      <td>13.3</td>\n",
       "      <td>23</td>\n",
       "      <td>67</td>\n",
       "      <td>8</td>\n",
       "      <td>16</td>\n",
       "      <td>59</td>\n",
       "      <td>8</td>\n",
       "      <td>1.37</td>\n",
       "    </tr>\n",
       "  </tbody>\n",
       "</table>\n",
       "</div>"
      ],
      "text/plain": [
       "   Company  Product  TypeName  Inches  ScreenResolution  Cpu  Ram  Memory  \\\n",
       "0        1      300         4    13.3                23   65    8       4   \n",
       "1        1      301         4    13.3                 1   63    8       2   \n",
       "2        7       50         3    15.6                 8   74    8      16   \n",
       "3        1      300         4    15.4                25   85   16      29   \n",
       "4        1      300         4    13.3                23   67    8      16   \n",
       "\n",
       "   Gpu  OpSys  Weight  \n",
       "0   58      8    1.37  \n",
       "1   51      8    1.34  \n",
       "2   53      4    1.86  \n",
       "3    9      8    1.83  \n",
       "4   59      8    1.37  "
      ]
     },
     "execution_count": 23,
     "metadata": {},
     "output_type": "execute_result"
    }
   ],
   "source": [
    "for col in X.columns:\n",
    "    if is_numeric_dtype(X[col]):\n",
    "        continue\n",
    "    else:\n",
    "        X[col]=le.fit_transform(X[col])\n",
    "X.head()"
   ]
  },
  {
   "cell_type": "markdown",
   "id": "215df7c8-a095-4996-8679-58dff0e5175b",
   "metadata": {},
   "source": [
    "# Divide the Dataset Train = 75%, Test = 25%"
   ]
  },
  {
   "cell_type": "code",
   "execution_count": 27,
   "id": "d82b8bef-e99d-43c6-9beb-9c14aebc192c",
   "metadata": {},
   "outputs": [],
   "source": [
    "from sklearn.model_selection import train_test_split as tts\n",
    "X_train,X_test,Y_train,Y_test=tts(X,Y,test_size=.25, random_state=1)"
   ]
  },
  {
   "cell_type": "code",
   "execution_count": 28,
   "id": "c7ef80be-93e9-4ad8-878d-135a2e7bb05b",
   "metadata": {},
   "outputs": [
    {
     "data": {
      "text/plain": [
       "(977, 11)"
      ]
     },
     "execution_count": 28,
     "metadata": {},
     "output_type": "execute_result"
    }
   ],
   "source": [
    "X_train.shape"
   ]
  },
  {
   "cell_type": "code",
   "execution_count": 29,
   "id": "42fc443e-67b4-4d9b-bc9d-9f53d19dd657",
   "metadata": {},
   "outputs": [
    {
     "data": {
      "text/plain": [
       "(326, 11)"
      ]
     },
     "execution_count": 29,
     "metadata": {},
     "output_type": "execute_result"
    }
   ],
   "source": [
    "X_test.shape"
   ]
  },
  {
   "cell_type": "markdown",
   "id": "826eaaef-2cf5-4f79-8283-bc77b0aff0fb",
   "metadata": {},
   "source": [
    "# Linear Regression"
   ]
  },
  {
   "cell_type": "code",
   "execution_count": 30,
   "id": "2498704d-0c05-448a-ad1f-bcd5de4e52e8",
   "metadata": {},
   "outputs": [],
   "source": [
    "from sklearn.linear_model import LinearRegression\n",
    "lereg=LinearRegression()"
   ]
  },
  {
   "cell_type": "code",
   "execution_count": 31,
   "id": "5580bba1-fb9e-4b4b-ae48-6b03ac10c8ef",
   "metadata": {},
   "outputs": [
    {
     "data": {
      "text/plain": [
       "LinearRegression()"
      ]
     },
     "execution_count": 31,
     "metadata": {},
     "output_type": "execute_result"
    }
   ],
   "source": [
    "lereg.fit(X_train,Y_train)"
   ]
  },
  {
   "cell_type": "code",
   "execution_count": 32,
   "id": "f0ca4bb8-baae-43db-92d2-38fa530d2fa7",
   "metadata": {},
   "outputs": [
    {
     "data": {
      "text/plain": [
       "array([[ 541.12400674],\n",
       "       [1136.37231757],\n",
       "       [1992.04871573],\n",
       "       [1213.63096238],\n",
       "       [1350.70717277],\n",
       "       [1161.99630282],\n",
       "       [1161.54756474],\n",
       "       [ 622.04075676],\n",
       "       [ 144.69759304],\n",
       "       [1232.04543803],\n",
       "       [1236.82020813],\n",
       "       [1040.64748862],\n",
       "       [1367.53743187],\n",
       "       [1486.28678155],\n",
       "       [1239.10596762],\n",
       "       [1788.91841811],\n",
       "       [ 886.33645829],\n",
       "       [1164.27662015],\n",
       "       [1060.61891869],\n",
       "       [ 682.3062702 ],\n",
       "       [ 914.29754196],\n",
       "       [ 620.03822531],\n",
       "       [2018.76038167],\n",
       "       [1386.68644423],\n",
       "       [ 645.54407502],\n",
       "       [1647.24915543],\n",
       "       [ 632.82627371],\n",
       "       [1060.47573593],\n",
       "       [1225.41570507],\n",
       "       [1371.70340524],\n",
       "       [2004.6352109 ],\n",
       "       [ 680.61512281],\n",
       "       [1151.69371502],\n",
       "       [1368.10893548],\n",
       "       [2112.58810312],\n",
       "       [ 579.09835004],\n",
       "       [ 689.21263915],\n",
       "       [ 643.09077184],\n",
       "       [ 262.08744795],\n",
       "       [1189.37375746],\n",
       "       [1044.39314775],\n",
       "       [ 715.19172989],\n",
       "       [ 724.39300553],\n",
       "       [ 732.429802  ],\n",
       "       [1277.04774997],\n",
       "       [ 510.60678673],\n",
       "       [ 865.89632361],\n",
       "       [1985.2657604 ],\n",
       "       [1163.06833267],\n",
       "       [2068.21098262],\n",
       "       [1055.40367174],\n",
       "       [1216.8281899 ],\n",
       "       [2032.36207963],\n",
       "       [1256.45116992],\n",
       "       [1154.08590453],\n",
       "       [1055.2670486 ],\n",
       "       [1885.83886501],\n",
       "       [1128.54775858],\n",
       "       [1078.67469665],\n",
       "       [ 751.36830426],\n",
       "       [1790.86707461],\n",
       "       [1086.11262885],\n",
       "       [1788.45961608],\n",
       "       [2223.38193613],\n",
       "       [ 704.70841242],\n",
       "       [1332.71881258],\n",
       "       [ 471.13083721],\n",
       "       [ 255.10265397],\n",
       "       [3222.90552307],\n",
       "       [1387.52094347],\n",
       "       [ 912.21748632],\n",
       "       [1735.36357495],\n",
       "       [1374.64731835],\n",
       "       [1913.5938064 ],\n",
       "       [3265.38701684],\n",
       "       [1338.01348593],\n",
       "       [1053.27819718],\n",
       "       [ 910.27083218],\n",
       "       [ 797.70176844],\n",
       "       [1924.24151272],\n",
       "       [ 391.93245064],\n",
       "       [ 841.44486188],\n",
       "       [1050.38648583],\n",
       "       [1214.41722368],\n",
       "       [ 759.3384241 ],\n",
       "       [2007.75180681],\n",
       "       [2019.24597371],\n",
       "       [1999.71898755],\n",
       "       [1218.47475639],\n",
       "       [ 360.14309497],\n",
       "       [1572.06456022],\n",
       "       [1226.36660446],\n",
       "       [1095.18946825],\n",
       "       [1275.98824488],\n",
       "       [ 880.19981816],\n",
       "       [2026.59785378],\n",
       "       [ 453.3100917 ],\n",
       "       [ 530.43540052],\n",
       "       [ 503.4340324 ],\n",
       "       [1361.44862891],\n",
       "       [1676.07527228],\n",
       "       [1336.81350783],\n",
       "       [1038.21946711],\n",
       "       [2058.47124769],\n",
       "       [1506.53494449],\n",
       "       [1961.79856755],\n",
       "       [1826.05288598],\n",
       "       [ 364.96862652],\n",
       "       [1342.38069425],\n",
       "       [ 795.49053245],\n",
       "       [1229.98163302],\n",
       "       [ 552.51371953],\n",
       "       [ 867.77300263],\n",
       "       [ 738.27422318],\n",
       "       [1437.68459742],\n",
       "       [ 825.85758726],\n",
       "       [1322.44798012],\n",
       "       [ 535.39013384],\n",
       "       [1993.19680134],\n",
       "       [ 754.19190985],\n",
       "       [1257.56955393],\n",
       "       [ 963.66009671],\n",
       "       [1115.60987143],\n",
       "       [1192.33033796],\n",
       "       [ 851.24413862],\n",
       "       [1721.53871531],\n",
       "       [ 366.79967253],\n",
       "       [1449.79851621],\n",
       "       [ 781.99333776],\n",
       "       [ 454.22327272],\n",
       "       [ 480.27826354],\n",
       "       [1769.13045271],\n",
       "       [1022.47127363],\n",
       "       [1932.46698727],\n",
       "       [1429.01426347],\n",
       "       [ 959.30426788],\n",
       "       [1263.41928381],\n",
       "       [ 821.68989251],\n",
       "       [ 822.32400143],\n",
       "       [1362.16078826],\n",
       "       [1045.32634479],\n",
       "       [ 474.99767671],\n",
       "       [ 665.76058725],\n",
       "       [ 938.05265915],\n",
       "       [1677.38070287],\n",
       "       [1999.71898755],\n",
       "       [1335.73587863],\n",
       "       [ 142.8397077 ],\n",
       "       [1996.16739164],\n",
       "       [2002.77067323],\n",
       "       [1422.63445561],\n",
       "       [1712.18595372],\n",
       "       [ 951.03634148],\n",
       "       [1290.91587648],\n",
       "       [ 999.93147727],\n",
       "       [1087.76598567],\n",
       "       [ 739.72409273],\n",
       "       [ 938.86322671],\n",
       "       [ 734.75925215],\n",
       "       [ 342.46527704],\n",
       "       [1028.21236473],\n",
       "       [1704.92446592],\n",
       "       [ 589.86454909],\n",
       "       [1290.7001503 ],\n",
       "       [1155.42211419],\n",
       "       [1502.03507896],\n",
       "       [ 263.99283083],\n",
       "       [1781.1862242 ],\n",
       "       [1840.39894692],\n",
       "       [ 199.14936688],\n",
       "       [1080.40633367],\n",
       "       [1290.6518653 ],\n",
       "       [2089.98662018],\n",
       "       [ 748.82312355],\n",
       "       [2141.21910487],\n",
       "       [2353.23616687],\n",
       "       [ 841.45539812],\n",
       "       [ 874.11062925],\n",
       "       [ 914.29754196],\n",
       "       [1028.21236473],\n",
       "       [ 807.9316735 ],\n",
       "       [ 451.68087145],\n",
       "       [ 877.68782716],\n",
       "       [1195.7435708 ],\n",
       "       [1561.88280216],\n",
       "       [1307.78827402],\n",
       "       [1065.9929406 ],\n",
       "       [2139.8124173 ],\n",
       "       [1294.88718265],\n",
       "       [1283.79063221],\n",
       "       [ 593.77899048],\n",
       "       [1399.54266003],\n",
       "       [1369.6271981 ],\n",
       "       [ 601.53874147],\n",
       "       [ 632.08809477],\n",
       "       [ 361.532791  ],\n",
       "       [1126.75542773],\n",
       "       [1643.46750976],\n",
       "       [ 333.49590407],\n",
       "       [2066.22901054],\n",
       "       [ 947.21213003],\n",
       "       [1165.84200561],\n",
       "       [ 991.97071484],\n",
       "       [ 763.62681657],\n",
       "       [ 672.40591677],\n",
       "       [1312.96769528],\n",
       "       [ 250.28162704],\n",
       "       [1054.57241113],\n",
       "       [ 658.1107355 ],\n",
       "       [1437.57432847],\n",
       "       [ 521.62764604],\n",
       "       [1214.01231194],\n",
       "       [1246.50461879],\n",
       "       [ 836.27621764],\n",
       "       [1715.72713598],\n",
       "       [2052.47057074],\n",
       "       [ 909.02504777],\n",
       "       [1179.68343447],\n",
       "       [ 213.47848952],\n",
       "       [ 634.65277403],\n",
       "       [1646.30004289],\n",
       "       [ 980.2435559 ],\n",
       "       [ 547.82561365],\n",
       "       [1840.44098606],\n",
       "       [3315.25002494],\n",
       "       [ 853.59992235],\n",
       "       [1072.80514226],\n",
       "       [1241.51182874],\n",
       "       [ 929.3169722 ],\n",
       "       [1532.88568592],\n",
       "       [1101.29747748],\n",
       "       [3291.93261148],\n",
       "       [ 295.35016497],\n",
       "       [1353.03281983],\n",
       "       [3365.45841599],\n",
       "       [1190.19052555],\n",
       "       [1276.60150459],\n",
       "       [1077.23481232],\n",
       "       [1871.35152215],\n",
       "       [ 573.90958605],\n",
       "       [2191.59471967],\n",
       "       [ 483.80168518],\n",
       "       [ 578.37864661],\n",
       "       [1130.49661853],\n",
       "       [ 444.20699423],\n",
       "       [ 755.3183909 ],\n",
       "       [1143.7599273 ],\n",
       "       [ 867.94966609],\n",
       "       [ 301.71070272],\n",
       "       [ 917.58185038],\n",
       "       [1396.98922431],\n",
       "       [1961.86224123],\n",
       "       [1244.21890125],\n",
       "       [1201.50397098],\n",
       "       [1021.32602368],\n",
       "       [ 941.48565529],\n",
       "       [ 566.64629879],\n",
       "       [1269.90456795],\n",
       "       [ 462.20438816],\n",
       "       [1913.34695712],\n",
       "       [1071.60313615],\n",
       "       [1242.35728637],\n",
       "       [ 896.82678531],\n",
       "       [1155.97413389],\n",
       "       [3516.27140587],\n",
       "       [1262.69703725],\n",
       "       [ 841.42933016],\n",
       "       [1965.21679678],\n",
       "       [3364.64892714],\n",
       "       [5929.42748197],\n",
       "       [1199.23519983],\n",
       "       [ 889.33584632],\n",
       "       [ 457.50875317],\n",
       "       [ 691.54585961],\n",
       "       [2079.83960914],\n",
       "       [1941.25165216],\n",
       "       [ 417.33028838],\n",
       "       [1945.25762997],\n",
       "       [1566.61948926],\n",
       "       [1251.48983803],\n",
       "       [ 533.66059206],\n",
       "       [2009.91507798],\n",
       "       [1738.50301756],\n",
       "       [1381.96121057],\n",
       "       [ 225.20044965],\n",
       "       [1067.37288584],\n",
       "       [1046.17183078],\n",
       "       [1065.8242807 ],\n",
       "       [ 366.30613632],\n",
       "       [ 596.37737651],\n",
       "       [ 404.60219968],\n",
       "       [1038.15000526],\n",
       "       [1160.14827051],\n",
       "       [1231.61870278],\n",
       "       [ 592.2280761 ],\n",
       "       [1850.21284025],\n",
       "       [ 656.33721277],\n",
       "       [1298.47136202],\n",
       "       [ 163.04644454],\n",
       "       [1403.84051936],\n",
       "       [1995.46602102],\n",
       "       [ 562.66879281],\n",
       "       [1369.6271981 ],\n",
       "       [ 218.15718333],\n",
       "       [1501.61398716],\n",
       "       [1050.55133267],\n",
       "       [1060.57754865],\n",
       "       [ 686.88760076],\n",
       "       [ 268.29026834],\n",
       "       [1018.95394726],\n",
       "       [1768.56299803],\n",
       "       [ 792.35557522],\n",
       "       [1218.72018944],\n",
       "       [ 285.88230577],\n",
       "       [1335.28382586],\n",
       "       [1925.53105909],\n",
       "       [ 979.45023547],\n",
       "       [1279.74994983],\n",
       "       [ 948.24588463],\n",
       "       [ 635.35531189],\n",
       "       [ 897.04892692],\n",
       "       [ 844.69076835],\n",
       "       [1865.10246528],\n",
       "       [1783.79511156],\n",
       "       [ 728.01277624],\n",
       "       [1113.98571124]])"
      ]
     },
     "execution_count": 32,
     "metadata": {},
     "output_type": "execute_result"
    }
   ],
   "source": [
    "LePredict=lereg.predict(X_test)\n",
    "LePredict"
   ]
  },
  {
   "cell_type": "code",
   "execution_count": 33,
   "id": "e2617927-edd6-4d7d-95dc-9ed6b8b37efd",
   "metadata": {},
   "outputs": [],
   "source": [
    "from sklearn.metrics import mean_squared_error,mean_absolute_error,r2_score"
   ]
  },
  {
   "cell_type": "code",
   "execution_count": 34,
   "id": "bb1b5072-23a4-4443-b5e5-1359f224a3c6",
   "metadata": {},
   "outputs": [
    {
     "name": "stdout",
     "output_type": "stream",
     "text": [
      "mean_squared_error \"MSE:\" 163523.6022031853\n",
      "mean_absolute_error \"MAE:\" 287.5183775435752\n",
      "r2_score: 0.6957201266661295\n"
     ]
    }
   ],
   "source": [
    "LR_mse=mean_squared_error(Y_test,LePredict)\n",
    "LR_mae=mean_absolute_error(Y_test,LePredict)\n",
    "LR_r2=r2_score(Y_test,LePredict)\n",
    "print(\"mean_squared_error \\\"MSE:\\\"\",LR_mse)\n",
    "print(\"mean_absolute_error \\\"MAE:\\\"\",LR_mae)\n",
    "print(\"r2_score:\",LR_r2)"
   ]
  },
  {
   "cell_type": "code",
   "execution_count": 35,
   "id": "726124bd-c8de-45df-96aa-59d4bb02d647",
   "metadata": {},
   "outputs": [
    {
     "data": {
      "text/plain": [
       "0.6609934163262965"
      ]
     },
     "execution_count": 35,
     "metadata": {},
     "output_type": "execute_result"
    }
   ],
   "source": [
    "lereg_training_score=lereg.score(X_train,Y_train)\n",
    "lereg_training_score"
   ]
  },
  {
   "cell_type": "code",
   "execution_count": 36,
   "id": "9c338cb3-0680-4d93-bc0f-8fbdae28c54d",
   "metadata": {},
   "outputs": [
    {
     "data": {
      "text/plain": [
       "0.6957201266661295"
      ]
     },
     "execution_count": 36,
     "metadata": {},
     "output_type": "execute_result"
    }
   ],
   "source": [
    "lereg_testing_score=lereg.score(X_test,Y_test)\n",
    "lereg_testing_score"
   ]
  },
  {
   "cell_type": "markdown",
   "id": "ec7e40e2-5cac-4866-9a2a-725280d0a16f",
   "metadata": {},
   "source": [
    "# KNN Regressor:\n"
   ]
  },
  {
   "cell_type": "code",
   "execution_count": 37,
   "id": "d7e7ab4b-c09d-4ec2-8dec-ae51c614ec6f",
   "metadata": {},
   "outputs": [],
   "source": [
    "from sklearn.neighbors import KNeighborsRegressor\n",
    "knn=KNeighborsRegressor(n_neighbors=3)"
   ]
  },
  {
   "cell_type": "code",
   "execution_count": 38,
   "id": "fb62a2b3-5c60-400f-b491-9274a0d6adf1",
   "metadata": {},
   "outputs": [
    {
     "data": {
      "text/plain": [
       "KNeighborsRegressor(n_neighbors=3)"
      ]
     },
     "execution_count": 38,
     "metadata": {},
     "output_type": "execute_result"
    }
   ],
   "source": [
    "knn.fit(X_train,Y_train)"
   ]
  },
  {
   "cell_type": "code",
   "execution_count": 39,
   "id": "f6ada3cd-1bcc-45f1-b2fe-2eca7984569c",
   "metadata": {},
   "outputs": [
    {
     "data": {
      "text/plain": [
       "array([[1530.33333333],\n",
       "       [ 645.66666667],\n",
       "       [1259.        ],\n",
       "       [ 892.66666667],\n",
       "       [1743.        ],\n",
       "       [1118.66666667],\n",
       "       [ 525.99666667],\n",
       "       [ 995.66666667],\n",
       "       [ 250.66666667],\n",
       "       [1571.33333333],\n",
       "       [1445.66666667],\n",
       "       [ 954.67      ],\n",
       "       [2449.        ],\n",
       "       [1710.        ],\n",
       "       [1352.66666667],\n",
       "       [1288.66666667],\n",
       "       [1109.        ],\n",
       "       [1380.33333333],\n",
       "       [1746.63333333],\n",
       "       [1784.66666667],\n",
       "       [ 745.33333333],\n",
       "       [ 725.6       ],\n",
       "       [1622.        ],\n",
       "       [1535.66666667],\n",
       "       [1062.33333333],\n",
       "       [1250.08      ],\n",
       "       [ 536.45      ],\n",
       "       [ 592.33333333],\n",
       "       [ 595.66666667],\n",
       "       [ 904.66666667],\n",
       "       [2775.33      ],\n",
       "       [ 702.66666667],\n",
       "       [1292.53333333],\n",
       "       [1420.66666667],\n",
       "       [1982.33333333],\n",
       "       [1162.66666667],\n",
       "       [ 737.29333333],\n",
       "       [ 527.        ],\n",
       "       [ 469.        ],\n",
       "       [1110.53333333],\n",
       "       [1193.        ],\n",
       "       [ 489.33333333],\n",
       "       [ 597.83      ],\n",
       "       [ 809.96666667],\n",
       "       [1525.96666667],\n",
       "       [ 618.89666667],\n",
       "       [1288.33333333],\n",
       "       [1582.33333333],\n",
       "       [ 873.        ],\n",
       "       [2311.03333333],\n",
       "       [1256.70333333],\n",
       "       [1149.        ],\n",
       "       [1732.        ],\n",
       "       [1119.        ],\n",
       "       [1115.        ],\n",
       "       [1256.70333333],\n",
       "       [2306.49666667],\n",
       "       [1201.33333333],\n",
       "       [1118.        ],\n",
       "       [ 724.54333333],\n",
       "       [2181.        ],\n",
       "       [1382.66666667],\n",
       "       [2305.96666667],\n",
       "       [2668.28666667],\n",
       "       [ 608.66666667],\n",
       "       [1726.66666667],\n",
       "       [ 410.        ],\n",
       "       [ 351.33333333],\n",
       "       [3168.97333333],\n",
       "       [ 558.09      ],\n",
       "       [1389.95      ],\n",
       "       [1045.        ],\n",
       "       [1310.31666667],\n",
       "       [1732.        ],\n",
       "       [2442.33333333],\n",
       "       [1139.55333333],\n",
       "       [ 907.33333333],\n",
       "       [ 950.66666667],\n",
       "       [1131.33333333],\n",
       "       [1529.16      ],\n",
       "       [ 524.05      ],\n",
       "       [ 963.22      ],\n",
       "       [1021.66666667],\n",
       "       [1136.6       ],\n",
       "       [ 477.33333333],\n",
       "       [1165.66666667],\n",
       "       [1362.33333333],\n",
       "       [1872.66666667],\n",
       "       [ 562.96666667],\n",
       "       [ 438.63      ],\n",
       "       [1659.18333333],\n",
       "       [ 714.33666667],\n",
       "       [ 932.        ],\n",
       "       [ 599.        ],\n",
       "       [ 847.        ],\n",
       "       [1640.66666667],\n",
       "       [ 515.19      ],\n",
       "       [ 272.        ],\n",
       "       [ 472.        ],\n",
       "       [1452.77666667],\n",
       "       [1900.72333333],\n",
       "       [1115.        ],\n",
       "       [1292.33333333],\n",
       "       [1725.66666667],\n",
       "       [2915.66666667],\n",
       "       [2780.87333333],\n",
       "       [2201.28      ],\n",
       "       [ 549.6       ],\n",
       "       [1573.33333333],\n",
       "       [ 524.05      ],\n",
       "       [1749.        ],\n",
       "       [ 682.29      ],\n",
       "       [1241.8       ],\n",
       "       [ 694.33333333],\n",
       "       [2299.33333333],\n",
       "       [ 963.51333333],\n",
       "       [1765.66666667],\n",
       "       [ 524.05      ],\n",
       "       [2398.15      ],\n",
       "       [ 646.        ],\n",
       "       [1608.99666667],\n",
       "       [1890.78      ],\n",
       "       [ 933.66666667],\n",
       "       [1659.73      ],\n",
       "       [1109.        ],\n",
       "       [1900.72333333],\n",
       "       [ 867.11333333],\n",
       "       [1544.33333333],\n",
       "       [ 859.78      ],\n",
       "       [ 572.21333333],\n",
       "       [ 369.        ],\n",
       "       [2249.        ],\n",
       "       [ 980.66666667],\n",
       "       [2780.87333333],\n",
       "       [1599.        ],\n",
       "       [ 653.44666667],\n",
       "       [1228.35666667],\n",
       "       [1109.        ],\n",
       "       [ 682.29      ],\n",
       "       [1593.66666667],\n",
       "       [1538.73333333],\n",
       "       [ 470.63333333],\n",
       "       [ 642.33333333],\n",
       "       [ 772.33666667],\n",
       "       [1608.99666667],\n",
       "       [1872.66666667],\n",
       "       [1167.66666667],\n",
       "       [ 436.        ],\n",
       "       [1344.79666667],\n",
       "       [1259.        ],\n",
       "       [1615.66666667],\n",
       "       [ 688.29666667],\n",
       "       [1035.33333333],\n",
       "       [ 589.        ],\n",
       "       [ 579.        ],\n",
       "       [1177.53333333],\n",
       "       [ 362.33      ],\n",
       "       [ 722.33333333],\n",
       "       [1109.        ],\n",
       "       [ 481.93      ],\n",
       "       [ 869.66666667],\n",
       "       [2143.        ],\n",
       "       [ 721.3       ],\n",
       "       [ 835.66666667],\n",
       "       [2039.        ],\n",
       "       [1641.        ],\n",
       "       [ 284.33333333],\n",
       "       [ 993.09      ],\n",
       "       [2201.28      ],\n",
       "       [ 255.3       ],\n",
       "       [1131.39333333],\n",
       "       [ 775.        ],\n",
       "       [2051.66666667],\n",
       "       [ 251.        ],\n",
       "       [2231.54666667],\n",
       "       [2424.        ],\n",
       "       [ 657.66666667],\n",
       "       [ 608.73      ],\n",
       "       [ 745.33333333],\n",
       "       [ 869.66666667],\n",
       "       [1587.66666667],\n",
       "       [ 505.19      ],\n",
       "       [ 717.        ],\n",
       "       [ 933.66666667],\n",
       "       [1659.18333333],\n",
       "       [ 795.        ],\n",
       "       [ 872.33333333],\n",
       "       [1550.33333333],\n",
       "       [1427.66666667],\n",
       "       [ 924.33666667],\n",
       "       [ 274.        ],\n",
       "       [1550.53333333],\n",
       "       [1122.33333333],\n",
       "       [1289.33333333],\n",
       "       [ 498.2       ],\n",
       "       [ 342.12      ],\n",
       "       [1925.33333333],\n",
       "       [2249.33333333],\n",
       "       [ 535.66666667],\n",
       "       [2498.62      ],\n",
       "       [1292.33333333],\n",
       "       [1455.95      ],\n",
       "       [ 648.52333333],\n",
       "       [ 707.92333333],\n",
       "       [ 608.66666667],\n",
       "       [1154.33333333],\n",
       "       [ 362.93333333],\n",
       "       [1525.96666667],\n",
       "       [ 229.        ],\n",
       "       [1570.33333333],\n",
       "       [ 232.33333333],\n",
       "       [1420.66666667],\n",
       "       [1439.33333333],\n",
       "       [ 790.83      ],\n",
       "       [1557.05      ],\n",
       "       [4165.66666667],\n",
       "       [1445.66666667],\n",
       "       [1122.3       ],\n",
       "       [ 531.63333333],\n",
       "       [1814.33333333],\n",
       "       [1900.72333333],\n",
       "       [ 729.        ],\n",
       "       [ 682.29      ],\n",
       "       [1895.82666667],\n",
       "       [3143.76333333],\n",
       "       [ 337.66333333],\n",
       "       [1702.33333333],\n",
       "       [1397.        ],\n",
       "       [ 849.00333333],\n",
       "       [1622.        ],\n",
       "       [ 885.66666667],\n",
       "       [2938.24666667],\n",
       "       [ 365.33333333],\n",
       "       [1535.66666667],\n",
       "       [3163.43      ],\n",
       "       [1310.31666667],\n",
       "       [1095.66666667],\n",
       "       [1112.25      ],\n",
       "       [1912.33333333],\n",
       "       [ 769.        ],\n",
       "       [1648.42      ],\n",
       "       [ 354.        ],\n",
       "       [ 516.5       ],\n",
       "       [ 771.66666667],\n",
       "       [ 558.89666667],\n",
       "       [ 981.66666667],\n",
       "       [1030.25      ],\n",
       "       [ 860.        ],\n",
       "       [ 499.66666667],\n",
       "       [ 868.        ],\n",
       "       [1451.18666667],\n",
       "       [2238.61666667],\n",
       "       [1375.66666667],\n",
       "       [ 924.33666667],\n",
       "       [ 584.56333333],\n",
       "       [ 522.33333333],\n",
       "       [ 397.16666667],\n",
       "       [1513.        ],\n",
       "       [ 487.66666667],\n",
       "       [1939.        ],\n",
       "       [ 519.3       ],\n",
       "       [1362.33333333],\n",
       "       [ 497.5       ],\n",
       "       [1522.66666667],\n",
       "       [1950.        ],\n",
       "       [1215.33333333],\n",
       "       [1696.33333333],\n",
       "       [2050.45666667],\n",
       "       [4165.66666667],\n",
       "       [2652.66666667],\n",
       "       [ 839.66666667],\n",
       "       [1073.33333333],\n",
       "       [ 438.63      ],\n",
       "       [ 260.99666667],\n",
       "       [1714.        ],\n",
       "       [1129.00333333],\n",
       "       [ 346.78666667],\n",
       "       [1269.44333333],\n",
       "       [1329.66666667],\n",
       "       [1641.        ],\n",
       "       [ 538.2       ],\n",
       "       [1982.33      ],\n",
       "       [1371.        ],\n",
       "       [1725.66666667],\n",
       "       [ 505.19      ],\n",
       "       [ 924.33666667],\n",
       "       [ 560.33333333],\n",
       "       [1112.25      ],\n",
       "       [ 438.79333333],\n",
       "       [ 913.05      ],\n",
       "       [ 232.33333333],\n",
       "       [ 942.33333333],\n",
       "       [1161.47333333],\n",
       "       [1063.        ],\n",
       "       [ 462.96666667],\n",
       "       [2094.99      ],\n",
       "       [ 956.33      ],\n",
       "       [1804.38333333],\n",
       "       [ 231.96666667],\n",
       "       [1315.66666667],\n",
       "       [1575.75333333],\n",
       "       [ 320.96666667],\n",
       "       [1122.33333333],\n",
       "       [ 415.33333333],\n",
       "       [ 877.02666667],\n",
       "       [2359.66666667],\n",
       "       [1021.66666667],\n",
       "       [ 737.66666667],\n",
       "       [ 465.93      ],\n",
       "       [1170.        ],\n",
       "       [1929.        ],\n",
       "       [ 547.63333333],\n",
       "       [1482.33333333],\n",
       "       [ 646.6       ],\n",
       "       [1377.66666667],\n",
       "       [1359.        ],\n",
       "       [ 584.56333333],\n",
       "       [1641.        ],\n",
       "       [1101.33333333],\n",
       "       [ 708.        ],\n",
       "       [ 748.        ],\n",
       "       [1072.23333333],\n",
       "       [1135.66666667],\n",
       "       [2029.96666667],\n",
       "       [1033.33333333],\n",
       "       [ 612.        ]])"
      ]
     },
     "execution_count": 39,
     "metadata": {},
     "output_type": "execute_result"
    }
   ],
   "source": [
    "knn_pred=knn.predict(X_test)\n",
    "knn_pred"
   ]
  },
  {
   "cell_type": "code",
   "execution_count": 40,
   "id": "a790677f-105a-47a5-837c-5b2021236274",
   "metadata": {},
   "outputs": [
    {
     "name": "stdout",
     "output_type": "stream",
     "text": [
      "KNN_mean_squared_error \"MSE:\" 117671.34086591683\n",
      "KNN_mean_absolute_error \"MAE:\" 231.4996319018405\n",
      "KNN_r2_score: 0.7810406558362226\n"
     ]
    }
   ],
   "source": [
    "knn_mse=mean_squared_error(Y_test,knn_pred)\n",
    "knn_mae=mean_absolute_error(Y_test,knn_pred)\n",
    "knn_r2=r2_score(Y_test,knn_pred)\n",
    "print(\"KNN_mean_squared_error \\\"MSE:\\\"\",knn_mse)\n",
    "print(\"KNN_mean_absolute_error \\\"MAE:\\\"\",knn_mae)\n",
    "print(\"KNN_r2_score:\",knn_r2)"
   ]
  },
  {
   "cell_type": "code",
   "execution_count": 41,
   "id": "2d4209e1-2eaf-4a1b-ba47-b3559f2d0777",
   "metadata": {},
   "outputs": [
    {
     "data": {
      "text/plain": [
       "0.8669109763516925"
      ]
     },
     "execution_count": 41,
     "metadata": {},
     "output_type": "execute_result"
    }
   ],
   "source": [
    "knn_training_score=knn.score(X_train,Y_train)\n",
    "knn_training_score"
   ]
  },
  {
   "cell_type": "code",
   "execution_count": 42,
   "id": "7e81113f-64a6-423e-bdde-7f8f56c3ead0",
   "metadata": {},
   "outputs": [
    {
     "data": {
      "text/plain": [
       "0.7810406558362226"
      ]
     },
     "execution_count": 42,
     "metadata": {},
     "output_type": "execute_result"
    }
   ],
   "source": [
    "knn_testing_score=knn.score(X_test,Y_test)\n",
    "knn_testing_score"
   ]
  },
  {
   "cell_type": "markdown",
   "id": "f050c10f-1872-41b9-8085-b029a4f41736",
   "metadata": {},
   "source": [
    "# Random Forest Regression"
   ]
  },
  {
   "cell_type": "code",
   "execution_count": 43,
   "id": "0e2dc2be-6932-4518-a44a-f075afe91054",
   "metadata": {},
   "outputs": [],
   "source": [
    "from sklearn.ensemble import RandomForestRegressor\n",
    "RFR=RandomForestRegressor()\n"
   ]
  },
  {
   "cell_type": "code",
   "execution_count": 44,
   "id": "e8bcb250-452c-48e4-9413-3abb32078097",
   "metadata": {},
   "outputs": [
    {
     "data": {
      "text/plain": [
       "RandomForestRegressor()"
      ]
     },
     "execution_count": 44,
     "metadata": {},
     "output_type": "execute_result"
    }
   ],
   "source": [
    "RFR.fit(X_train,Y_train)"
   ]
  },
  {
   "cell_type": "code",
   "execution_count": 45,
   "id": "38a18ba3-8548-458b-b408-b37a6059c233",
   "metadata": {},
   "outputs": [],
   "source": [
    "RFR_pred=RFR.predict(X_test)"
   ]
  },
  {
   "cell_type": "code",
   "execution_count": 46,
   "id": "a8edfe07-6207-4f50-b0d6-6a20e004f7f8",
   "metadata": {},
   "outputs": [
    {
     "name": "stdout",
     "output_type": "stream",
     "text": [
      "RFR_mean_squared_error \"MSE:\" 65467.32894505885\n",
      "RFR_mean_absolute_error \"MAE:\" 156.79690609406956\n",
      "RFR_r2_score: 0.8781803342727408\n"
     ]
    }
   ],
   "source": [
    "RFR_mse=mean_squared_error(Y_test,RFR_pred)\n",
    "RFR_mae=mean_absolute_error(Y_test,RFR_pred)\n",
    "RFR_r2=r2_score(Y_test,RFR_pred)\n",
    "print(\"RFR_mean_squared_error \\\"MSE:\\\"\",RFR_mse)\n",
    "print(\"RFR_mean_absolute_error \\\"MAE:\\\"\",RFR_mae)\n",
    "print(\"RFR_r2_score:\",RFR_r2)"
   ]
  },
  {
   "cell_type": "code",
   "execution_count": 47,
   "id": "2704a9ee-4296-4a12-8326-e0006fe5bf0c",
   "metadata": {},
   "outputs": [
    {
     "data": {
      "text/plain": [
       "0.9750216670628004"
      ]
     },
     "execution_count": 47,
     "metadata": {},
     "output_type": "execute_result"
    }
   ],
   "source": [
    "RFR_training_score=RFR.score(X_train,Y_train)\n",
    "RFR_training_score"
   ]
  },
  {
   "cell_type": "code",
   "execution_count": 48,
   "id": "fd33f8be-09b9-4f14-be4e-f2e944ae8fda",
   "metadata": {},
   "outputs": [
    {
     "data": {
      "text/plain": [
       "0.8781803342727408"
      ]
     },
     "execution_count": 48,
     "metadata": {},
     "output_type": "execute_result"
    }
   ],
   "source": [
    "RFR_testing_score=RFR.score(X_test,Y_test)\n",
    "RFR_testing_score"
   ]
  },
  {
   "cell_type": "markdown",
   "id": "0eadaf36-7b22-4f9f-a8df-c0504e5cddcb",
   "metadata": {},
   "source": [
    "# Decision Tree Regression"
   ]
  },
  {
   "cell_type": "code",
   "execution_count": 49,
   "id": "63ebf4b0-26be-4d4e-90c7-eae54ba89d6a",
   "metadata": {},
   "outputs": [
    {
     "data": {
      "text/plain": [
       "DecisionTreeRegressor(ccp_alpha=0, max_depth=10, random_state=1)"
      ]
     },
     "execution_count": 49,
     "metadata": {},
     "output_type": "execute_result"
    }
   ],
   "source": [
    "from sklearn.tree import DecisionTreeRegressor\n",
    "\n",
    "# Build decision tree\n",
    "dtree=DecisionTreeRegressor(max_depth=10,\n",
    "    min_samples_split=2,\n",
    "    min_samples_leaf=1,\n",
    "    min_weight_fraction_leaf=0.0,\n",
    "    max_features=None,\n",
    "    random_state=1,\n",
    "    max_leaf_nodes=None,\n",
    "    min_impurity_decrease=0.0,\n",
    "    ccp_alpha=0)\n",
    "dtree.fit(X_train,Y_train)"
   ]
  },
  {
   "cell_type": "code",
   "execution_count": 50,
   "id": "573a6c47-1fdc-450a-84ae-ffdd03eb92b1",
   "metadata": {},
   "outputs": [],
   "source": [
    "dtree_predict=dtree.predict(X_test)"
   ]
  },
  {
   "cell_type": "code",
   "execution_count": 51,
   "id": "daeea85a-95ea-4fcd-89f1-8f2bb3e302ce",
   "metadata": {},
   "outputs": [
    {
     "name": "stdout",
     "output_type": "stream",
     "text": [
      "dtree_mean_squared_error \"MSE:\" 160789.40041458837\n",
      "dtree_mean_absolute_error \"MAE:\" 215.37830570489058\n",
      "dtree_r2_score: 0.7008078483325698\n",
      "dtree_training_score:  0.9588016606047661\n",
      "dtree_testing_score:  0.7008078483325698\n"
     ]
    }
   ],
   "source": [
    "dtree_mse=mean_squared_error(Y_test,dtree_predict)\n",
    "dtree_mae=mean_absolute_error(Y_test,dtree_predict)\n",
    "dtree_r2=r2_score(Y_test,dtree_predict)\n",
    "print(\"dtree_mean_squared_error \\\"MSE:\\\"\",dtree_mse)\n",
    "print(\"dtree_mean_absolute_error \\\"MAE:\\\"\",dtree_mae)\n",
    "print(\"dtree_r2_score:\",dtree_r2)\n",
    "dtree_training_score=dtree.score(X_train,Y_train)\n",
    "print(\"dtree_training_score: \",dtree_training_score)\n",
    "dtree_testing_score=dtree.score(X_test,Y_test)\n",
    "print(\"dtree_testing_score: \",dtree_testing_score)"
   ]
  },
  {
   "cell_type": "markdown",
   "id": "d488a366-49cc-4e78-b188-861701a26b77",
   "metadata": {},
   "source": [
    "# Support Vector Regression (SVR)"
   ]
  },
  {
   "cell_type": "code",
   "execution_count": 52,
   "id": "40430b20-4403-4bd2-80cc-3cc50be55d9f",
   "metadata": {},
   "outputs": [
    {
     "name": "stdout",
     "output_type": "stream",
     "text": [
      "[LibSVM]................................*...........*...........................*.................................*...............................................*.................................................................................*....................................................................................................................*.......................................................................*\n",
      "optimization finished, #iter = 414912\n",
      "obj = -286459.428053, rho = 256.370048\n",
      "nSV = 977, nBSV = 967\n"
     ]
    }
   ],
   "source": [
    "from sklearn.svm import SVR\n",
    "\n",
    "# Choose regression method and set hyperparameter\n",
    "svr_lr=SVR(kernel='linear',\n",
    "    degree=3,\n",
    "    gamma='scale',\n",
    "    coef0=0.0,\n",
    "    tol=0.001,\n",
    "    C=1.0,\n",
    "    epsilon=0.1,\n",
    "    shrinking=True,\n",
    "    cache_size=200,\n",
    "    verbose=True,\n",
    "    max_iter=-1)\n",
    "\n",
    "# Training of the regression model\n",
    "svr_lr.fit(X_train, Y_train)\n",
    "svr_pred = svr_lr.predict(X_test)"
   ]
  },
  {
   "cell_type": "code",
   "execution_count": 53,
   "id": "f2a9eea8-9d80-4c92-96ee-69b6118a1606",
   "metadata": {},
   "outputs": [
    {
     "name": "stdout",
     "output_type": "stream",
     "text": [
      "svr_mean_squared_error \"MSE:\" 168711.49496339276\n",
      "svr_mean_absolute_error \"MAE:\" 283.265395686017\n",
      "svr_r2_score: 0.6860666495492043\n",
      "svr_training_score:  0.6448599877467633\n",
      "svr_testing_score:  0.6860666495492043\n"
     ]
    }
   ],
   "source": [
    "svr_mse=mean_squared_error(Y_test,svr_pred)\n",
    "svr_mae=mean_absolute_error(Y_test,svr_pred)\n",
    "svr_r2=r2_score(Y_test,svr_pred)\n",
    "print(\"svr_mean_squared_error \\\"MSE:\\\"\",svr_mse)\n",
    "print(\"svr_mean_absolute_error \\\"MAE:\\\"\",svr_mae)\n",
    "print(\"svr_r2_score:\",svr_r2)\n",
    "svr_training_score=svr_lr.score(X_train,Y_train)\n",
    "print(\"svr_training_score: \",svr_training_score)\n",
    "svr_testing_score=svr_lr.score(X_test,Y_test)\n",
    "print(\"svr_testing_score: \",svr_testing_score)"
   ]
  },
  {
   "cell_type": "markdown",
   "id": "f6fdc208-8f75-4783-9c01-eb0d98f69e0b",
   "metadata": {},
   "source": [
    "# Lasso Regression"
   ]
  },
  {
   "cell_type": "code",
   "execution_count": 54,
   "id": "8c3ea09b-371d-4566-b6df-93b5cbbde988",
   "metadata": {},
   "outputs": [],
   "source": [
    "from sklearn import linear_model\n",
    "\n",
    "# Fit regression model\n",
    "lassoReg = linear_model.Lasso(alpha=0.1)\n",
    "lassoReg.fit(X_train,Y_train)\n",
    "# Predict\n",
    "lassoReg_predict=lassoReg.predict(X_test)"
   ]
  },
  {
   "cell_type": "code",
   "execution_count": 55,
   "id": "e8b93bda-7db8-4038-b1c4-f423fd939f07",
   "metadata": {},
   "outputs": [
    {
     "name": "stdout",
     "output_type": "stream",
     "text": [
      "lassoReg_mean_squared_error \"MSE:\" 163553.80876893256\n",
      "lassoReg_mean_absolute_error \"MAE:\" 287.53553170242907\n",
      "lassoReg_r2_score: 0.6956639191836891\n",
      "lassoReg_training_score:  0.6609929387054483\n",
      "lassoReg_testing_score:  0.6956639191836891\n"
     ]
    }
   ],
   "source": [
    "lassoReg_mse=mean_squared_error(Y_test,lassoReg_predict)\n",
    "lassoReg_mae=mean_absolute_error(Y_test,lassoReg_predict)\n",
    "lassoReg_r2=r2_score(Y_test,lassoReg_predict)\n",
    "print(\"lassoReg_mean_squared_error \\\"MSE:\\\"\",lassoReg_mse)\n",
    "print(\"lassoReg_mean_absolute_error \\\"MAE:\\\"\",lassoReg_mae)\n",
    "print(\"lassoReg_r2_score:\",lassoReg_r2)\n",
    "lassoReg_training_score=lassoReg.score(X_train,Y_train)\n",
    "print(\"lassoReg_training_score: \",lassoReg_training_score)\n",
    "lassoReg_testing_score=lassoReg.score(X_test,Y_test)\n",
    "print(\"lassoReg_testing_score: \",lassoReg_testing_score)"
   ]
  },
  {
   "cell_type": "markdown",
   "id": "b4cb9902-437f-4847-b283-4733202021f2",
   "metadata": {},
   "source": [
    "# AdaBoost Regression"
   ]
  },
  {
   "cell_type": "code",
   "execution_count": 56,
   "id": "15cf008b-a9fd-46ab-a524-6f054da1087b",
   "metadata": {},
   "outputs": [],
   "source": [
    "from sklearn.ensemble import AdaBoostRegressor\n",
    "\n",
    "adaBoost=AdaBoostRegressor(n_estimators=13,\n",
    "    learning_rate=1.0,\n",
    "    loss='linear',\n",
    "    random_state=1)"
   ]
  },
  {
   "cell_type": "code",
   "execution_count": 58,
   "id": "c9fb523a-4419-4ed4-bb05-2ba239232f7e",
   "metadata": {},
   "outputs": [],
   "source": [
    "adaBoost.fit(X_train,Y_train)\n",
    "# Predict\n",
    "adaBoost_predict=adaBoost.predict(X_test)"
   ]
  },
  {
   "cell_type": "code",
   "execution_count": 59,
   "id": "c625fd77-1903-401a-ab1b-5e70d6f98585",
   "metadata": {},
   "outputs": [
    {
     "name": "stdout",
     "output_type": "stream",
     "text": [
      "adaBoost_mean_squared_error \"MSE:\" 147055.91427457295\n",
      "adaBoost_mean_absolute_error \"MAE:\" 295.90459932935505\n",
      "adaBoost_r2_score: 0.7263627123816383\n",
      "adaBoost_training_score:  0.7222324198239789\n",
      "adaBoost_testing_score:  0.7263627123816383\n"
     ]
    }
   ],
   "source": [
    "adaBoost_mse=mean_squared_error(Y_test,adaBoost_predict)\n",
    "adaBoost_mae=mean_absolute_error(Y_test,adaBoost_predict)\n",
    "adaBoost_r2=r2_score(Y_test,adaBoost_predict)\n",
    "print(\"adaBoost_mean_squared_error \\\"MSE:\\\"\",adaBoost_mse)\n",
    "print(\"adaBoost_mean_absolute_error \\\"MAE:\\\"\",adaBoost_mae)\n",
    "print(\"adaBoost_r2_score:\",adaBoost_r2)\n",
    "adaBoost_training_score=adaBoost.score(X_train,Y_train)\n",
    "print(\"adaBoost_training_score: \",adaBoost_training_score)\n",
    "adaBoost_testing_score=adaBoost.score(X_test,Y_test)\n",
    "print(\"adaBoost_testing_score: \",adaBoost_testing_score)"
   ]
  },
  {
   "cell_type": "markdown",
   "id": "9360ed75-50c0-46a7-8e44-f9c0037df463",
   "metadata": {},
   "source": [
    "## XGBoost Regression"
   ]
  },
  {
   "cell_type": "code",
   "execution_count": 60,
   "id": "9cfeb583-b7e4-4c8f-bad2-14f1bc7c82e3",
   "metadata": {},
   "outputs": [],
   "source": [
    "import xgboost as xg\n",
    "\n",
    "xgb = xg.XGBRegressor(n_estimators=14,max_depth=14)"
   ]
  },
  {
   "cell_type": "code",
   "execution_count": 61,
   "id": "3296ab15-e4a0-4a0b-9779-2fe28969d008",
   "metadata": {},
   "outputs": [],
   "source": [
    "xgb.fit(X_train,Y_train)\n",
    "xgb_predict=xgb.predict(X_test)"
   ]
  },
  {
   "cell_type": "code",
   "execution_count": 62,
   "id": "da4d5dac-8fb3-4d55-8933-d00b0d60e26c",
   "metadata": {},
   "outputs": [
    {
     "name": "stdout",
     "output_type": "stream",
     "text": [
      "xgb_mean_squared_error \"MSE:\" 63491.45330542175\n",
      "xgb_mean_absolute_error \"MAE:\" 155.46258565703783\n",
      "xgb_r2_score: 0.8818569851124478\n",
      "xgb_training_score:  0.9946158105345613\n",
      "xgb_testing_score:  0.8818569851124478\n"
     ]
    }
   ],
   "source": [
    "xgb_mse=mean_squared_error(Y_test,xgb_predict)\n",
    "xgb_mae=mean_absolute_error(Y_test,xgb_predict)\n",
    "xgb_r2=r2_score(Y_test,xgb_predict)\n",
    "print(\"xgb_mean_squared_error \\\"MSE:\\\"\",xgb_mse)\n",
    "print(\"xgb_mean_absolute_error \\\"MAE:\\\"\",xgb_mae)\n",
    "print(\"xgb_r2_score:\",xgb_r2)\n",
    "xgb_training_score=xgb.score(X_train,Y_train)\n",
    "print(\"xgb_training_score: \",xgb_training_score)\n",
    "xgb_testing_score=xgb.score(X_test,Y_test)\n",
    "print(\"xgb_testing_score: \",xgb_testing_score)"
   ]
  },
  {
   "cell_type": "markdown",
   "id": "8cbeef4c-1a4d-4beb-ab03-6678845c4c88",
   "metadata": {},
   "source": [
    "## Gradient Boost Regression\n",
    "- Find out ccalpha value for good accurecy"
   ]
  },
  {
   "cell_type": "code",
   "execution_count": 63,
   "id": "1b5e410e-4371-4506-bbe8-c9cebff5dee4",
   "metadata": {},
   "outputs": [
    {
     "name": "stdout",
     "output_type": "stream",
     "text": [
      "train_score 0\n",
      "test_score 261\n"
     ]
    }
   ],
   "source": [
    "train_score=dict() # take Blank Dictionary\n",
    "test_score=dict() # take Blank Dictionary\n",
    "ccalpha=range(300) # check value for range 0-300\n",
    "from sklearn.ensemble import GradientBoostingRegressor\n",
    "for i in ccalpha:\n",
    "    gBoost=GradientBoostingRegressor(loss='squared_error',\n",
    "        learning_rate=0.1, n_estimators=100, subsample=1.0,\n",
    "        criterion='friedman_mse', min_samples_split=2,\n",
    "        min_samples_leaf=1, min_weight_fraction_leaf=0.0,\n",
    "        max_depth=14, min_impurity_decrease=0.0, init=None,\n",
    "        random_state=None, max_features=None,\n",
    "        alpha=0.9, verbose=0, max_leaf_nodes=None,\n",
    "        warm_start=False, validation_fraction=0.1,\n",
    "        n_iter_no_change=None, tol=0.0001, ccp_alpha=i)\n",
    "    gBoost.fit(X_train,Y_train)\n",
    "    gBoost_predict=gBoost.predict(X_test)\n",
    "\n",
    "    gBoost_training_score=gBoost.score(X_train,Y_train)\n",
    "    train_score[i]=gBoost_training_score # add new item into dictionary\n",
    "    gBoost_testing_score=gBoost.score(X_test,Y_test)\n",
    "    test_score[i]=gBoost_testing_score # add new item into dictionary\n",
    "    \n",
    "max_train_score = max(train_score, key=train_score.get) # find  max key from dictionary for ccalpha\n",
    "max_test_score = max(test_score, key=test_score.get) # find  max key from dictionary for ccalpha\n",
    "print(\"train_score\",max_train_score)\n",
    "print(\"test_score\",max_test_score)"
   ]
  },
  {
   "cell_type": "code",
   "execution_count": 64,
   "id": "03ee095e-ca08-4650-90a8-216b56a1440f",
   "metadata": {},
   "outputs": [
    {
     "name": "stdout",
     "output_type": "stream",
     "text": [
      "gBoost_mean_squared_error \"MSE:\" 72446.60470542798\n",
      "gBoost_mean_absolute_error \"MAE:\" 180.3050345225549\n",
      "gBoost_r2_score: 0.8651935047526295\n",
      "gBoost_training_score:  0.900821588698134\n",
      "gBoost_testing_score:  0.8651935047526295\n"
     ]
    }
   ],
   "source": [
    "gBoost=GradientBoostingRegressor(ccp_alpha=max_test_score,random_state=max_test_score)\n",
    "gBoost.fit(X_train,Y_train)\n",
    "gBoost_predict=gBoost.predict(X_test)\n",
    "\n",
    "gBoost_mse=mean_squared_error(Y_test,gBoost_predict)\n",
    "gBoost_mae=mean_absolute_error(Y_test,gBoost_predict)\n",
    "gBoost_r2=r2_score(Y_test,gBoost_predict)\n",
    "print(\"gBoost_mean_squared_error \\\"MSE:\\\"\",gBoost_mse)\n",
    "print(\"gBoost_mean_absolute_error \\\"MAE:\\\"\",gBoost_mae)\n",
    "print(\"gBoost_r2_score:\",gBoost_r2)\n",
    "gBoost_training_score=gBoost.score(X_train,Y_train)\n",
    "print(\"gBoost_training_score: \",gBoost_training_score)\n",
    "gBoost_testing_score=gBoost.score(X_test,Y_test)\n",
    "print(\"gBoost_testing_score: \",gBoost_testing_score)"
   ]
  },
  {
   "cell_type": "markdown",
   "id": "c15b896d-9ed9-4921-a346-fdc9f22e1515",
   "metadata": {},
   "source": [
    "# Gaussian Process Regression"
   ]
  },
  {
   "cell_type": "code",
   "execution_count": 65,
   "id": "04797a2a-df49-4080-b349-85c3228f9980",
   "metadata": {},
   "outputs": [
    {
     "data": {
      "text/plain": [
       "GaussianProcessRegressor(kernel=DotProduct(sigma_0=1) + WhiteKernel(noise_level=1),\n",
       "                         normalize_y=True, random_state=1)"
      ]
     },
     "execution_count": 65,
     "metadata": {},
     "output_type": "execute_result"
    }
   ],
   "source": [
    "from sklearn.gaussian_process import GaussianProcessRegressor\n",
    "from sklearn.gaussian_process.kernels import DotProduct, WhiteKernel\n",
    "kernel = DotProduct() + WhiteKernel()\n",
    "gaussianReg = GaussianProcessRegressor(kernel=kernel,normalize_y=True,random_state=1)\n",
    "gaussianReg.fit(X_train, Y_train)\n",
    "#gaussianReg.kernel_"
   ]
  },
  {
   "cell_type": "code",
   "execution_count": 66,
   "id": "8d00298a-1f24-42b8-ac3c-43e357d6d584",
   "metadata": {},
   "outputs": [],
   "source": [
    "gaussianReg_predict=gaussianReg.predict(X_test)"
   ]
  },
  {
   "cell_type": "code",
   "execution_count": 67,
   "id": "7f7accb9-63dc-4fad-a94f-52c284aacb1c",
   "metadata": {},
   "outputs": [
    {
     "name": "stdout",
     "output_type": "stream",
     "text": [
      "gaussianReg_mean_squared_error \"MSE:\" 163627.10688097152\n",
      "gaussianReg_mean_absolute_error \"MAE:\" 287.2903472807887\n",
      "gaussianReg_r2_score: 0.6955275282288279\n",
      "gaussianReg_training_score:  0.660980949520455\n",
      "gaussianReg_testing_score:  0.6955275282288279\n"
     ]
    }
   ],
   "source": [
    "gaussianReg_mse=mean_squared_error(Y_test,gaussianReg_predict)\n",
    "gaussianReg_mae=mean_absolute_error(Y_test,gaussianReg_predict)\n",
    "gaussianReg_r2=r2_score(Y_test,gaussianReg_predict)\n",
    "print(\"gaussianReg_mean_squared_error \\\"MSE:\\\"\",gaussianReg_mse)\n",
    "print(\"gaussianReg_mean_absolute_error \\\"MAE:\\\"\",gaussianReg_mae)\n",
    "print(\"gaussianReg_r2_score:\",gaussianReg_r2)\n",
    "gaussianReg_training_score=gaussianReg.score(X_train,Y_train)\n",
    "print(\"gaussianReg_training_score: \",gaussianReg_training_score)\n",
    "gaussianReg_testing_score=gaussianReg.score(X_test,Y_test)\n",
    "print(\"gaussianReg_testing_score: \",gaussianReg_testing_score)"
   ]
  },
  {
   "cell_type": "code",
   "execution_count": 68,
   "id": "f1a1dbbf-db37-4e15-9737-cfcfc207a26b",
   "metadata": {},
   "outputs": [
    {
     "data": {
      "text/html": [
       "<div>\n",
       "<style scoped>\n",
       "    .dataframe tbody tr th:only-of-type {\n",
       "        vertical-align: middle;\n",
       "    }\n",
       "\n",
       "    .dataframe tbody tr th {\n",
       "        vertical-align: top;\n",
       "    }\n",
       "\n",
       "    .dataframe thead th {\n",
       "        text-align: right;\n",
       "    }\n",
       "</style>\n",
       "<table border=\"1\" class=\"dataframe\">\n",
       "  <thead>\n",
       "    <tr style=\"text-align: right;\">\n",
       "      <th></th>\n",
       "      <th>Algorithm Name</th>\n",
       "      <th>Accuracy Score %</th>\n",
       "    </tr>\n",
       "  </thead>\n",
       "  <tbody>\n",
       "    <tr>\n",
       "      <th>0</th>\n",
       "      <td>LREG r2 score:</td>\n",
       "      <td>69.572013</td>\n",
       "    </tr>\n",
       "    <tr>\n",
       "      <th>1</th>\n",
       "      <td>KNN r2 score:</td>\n",
       "      <td>78.104066</td>\n",
       "    </tr>\n",
       "    <tr>\n",
       "      <th>2</th>\n",
       "      <td>RandomForest_r2_score:</td>\n",
       "      <td>87.818033</td>\n",
       "    </tr>\n",
       "    <tr>\n",
       "      <th>3</th>\n",
       "      <td>DecisionTree_r2_score</td>\n",
       "      <td>70.080785</td>\n",
       "    </tr>\n",
       "    <tr>\n",
       "      <th>4</th>\n",
       "      <td>SVR_r2_score</td>\n",
       "      <td>68.606665</td>\n",
       "    </tr>\n",
       "    <tr>\n",
       "      <th>5</th>\n",
       "      <td>LassoRegression_r2_score</td>\n",
       "      <td>69.566392</td>\n",
       "    </tr>\n",
       "    <tr>\n",
       "      <th>6</th>\n",
       "      <td>AdaBoost_r2_score</td>\n",
       "      <td>72.636271</td>\n",
       "    </tr>\n",
       "    <tr>\n",
       "      <th>7</th>\n",
       "      <td>XGBoost_r2_score</td>\n",
       "      <td>88.185699</td>\n",
       "    </tr>\n",
       "    <tr>\n",
       "      <th>8</th>\n",
       "      <td>GradientBoost_r2_score</td>\n",
       "      <td>86.519350</td>\n",
       "    </tr>\n",
       "    <tr>\n",
       "      <th>9</th>\n",
       "      <td>GaussianReg_r2_score</td>\n",
       "      <td>69.552753</td>\n",
       "    </tr>\n",
       "  </tbody>\n",
       "</table>\n",
       "</div>"
      ],
      "text/plain": [
       "             Algorithm Name  Accuracy Score %\n",
       "0            LREG r2 score:         69.572013\n",
       "1             KNN r2 score:         78.104066\n",
       "2    RandomForest_r2_score:         87.818033\n",
       "3     DecisionTree_r2_score         70.080785\n",
       "4              SVR_r2_score         68.606665\n",
       "5  LassoRegression_r2_score         69.566392\n",
       "6         AdaBoost_r2_score         72.636271\n",
       "7          XGBoost_r2_score         88.185699\n",
       "8    GradientBoost_r2_score         86.519350\n",
       "9      GaussianReg_r2_score         69.552753"
      ]
     },
     "execution_count": 68,
     "metadata": {},
     "output_type": "execute_result"
    }
   ],
   "source": [
    "LR_DF = pd.DataFrame({'Algorithm Name': ['LREG r2 score:','KNN r2 score:','RandomForest_r2_score:','DecisionTree_r2_score',\n",
    "                                         'SVR_r2_score','LassoRegression_r2_score','AdaBoost_r2_score','XGBoost_r2_score',\n",
    "                                         'GradientBoost_r2_score','GaussianReg_r2_score'],\n",
    "                      'Accuracy Score %': [LR_r2*100,knn_r2*100,\n",
    "                                          RFR_r2*100,dtree_r2*100,\n",
    "                                          svr_r2*100,lassoReg_r2*100,\n",
    "                                          adaBoost_r2*100,xgb_r2*100,\n",
    "                                          gBoost_r2*100,\n",
    "                                          gaussianReg_r2*100]})\n",
    "LR_DF"
   ]
  },
  {
   "cell_type": "code",
   "execution_count": 69,
   "id": "ee19ac1e-32d3-460f-a45a-e2ac1ed67691",
   "metadata": {},
   "outputs": [
    {
     "data": {
      "image/png": "[encoded data removed]",
      "text/plain": [
       "<Figure size 576x432 with 1 Axes>"
      ]
     },
     "metadata": {
      "needs_background": "light"
     },
     "output_type": "display_data"
    }
   ],
   "source": [
    "plt.figure(figsize = (8, 6))\n",
    "ax=sns.barplot(y='Algorithm Name',x='Accuracy Score %',data=LR_DF,palette='Set1')\n",
    "#sns.set(rc = {'figure.figsize':(20, 20)})\n",
    "\n",
    "ax.set_xlabel( \" Accuracy_Score %\")\n",
    "ax.set_ylabel( \"Algorithm Name \")\n",
    "ax.set_title(  \"Accuracy Score Comparison for Different Algorithm\")\n",
    "ax.bar_label(ax.containers[0])  # show value\n",
    "plt.show()"
   ]
  },
  {
   "cell_type": "markdown",
   "id": "e6369a45-4133-4f2e-8ea6-605e9c18bc46",
   "metadata": {},
   "source": [
    "#### NB: Random Forest, XGBoost and Gradient Boost Regression Algorithm are giving good accuracy for this Dataset respectively."
   ]
  },
  {
   "cell_type": "code",
   "execution_count": null,
   "id": "f4639259-4286-4120-821c-de8b47142e35",
   "metadata": {},
   "outputs": [],
   "source": []
  },
  {
   "cell_type": "code",
   "execution_count": null,
   "id": "81c4c732-7d08-4f2c-9f8c-b055c6c42db4",
   "metadata": {},
   "outputs": [],
   "source": []
  },
  {
   "cell_type": "code",
   "execution_count": null,
   "id": "f32826d9-244b-4efc-a07a-71cef99a9027",
   "metadata": {},
   "outputs": [],
   "source": []
  }
 ],
 "metadata": {
  "kernelspec": {
   "display_name": "Python 3 (ipykernel)",
   "language": "python",
   "name": "python3"
  },
  "language_info": {
   "codemirror_mode": {
    "name": "ipython",
    "version": 3
   },
   "file_extension": ".py",
   "mimetype": "text/x-python",
   "name": "python",
   "nbconvert_exporter": "python",
   "pygments_lexer": "ipython3",
   "version": "3.7.13"
  }
 },
 "nbformat": 4,
 "nbformat_minor": 5
}
